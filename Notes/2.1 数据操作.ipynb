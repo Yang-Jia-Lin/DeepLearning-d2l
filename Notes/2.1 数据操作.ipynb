{
 "cells": [
  {
   "cell_type": "code",
   "id": "initial_id",
   "metadata": {
    "collapsed": true,
    "ExecuteTime": {
     "end_time": "2024-05-01T07:51:02.216823Z",
     "start_time": "2024-05-01T07:51:02.212431Z"
    }
   },
   "source": "import torch",
   "outputs": [],
   "execution_count": 14
  },
  {
   "metadata": {
    "ExecuteTime": {
     "end_time": "2024-05-01T07:51:02.308984Z",
     "start_time": "2024-05-01T07:51:02.302425Z"
    }
   },
   "cell_type": "code",
   "source": [
    "# 创建数组（形状/数据类型/值）\n",
    "x1 = torch.arange(12)\n",
    "print(x1)\n",
    "print(x1.shape)          # 访问形状\n",
    "print(x1.numel())        # 访问元素个数"
   ],
   "id": "c0c53229dcd366f7",
   "outputs": [
    {
     "name": "stdout",
     "output_type": "stream",
     "text": [
      "tensor([ 0,  1,  2,  3,  4,  5,  6,  7,  8,  9, 10, 11])\n",
      "torch.Size([12])\n",
      "12\n"
     ]
    }
   ],
   "execution_count": 15
  },
  {
   "metadata": {
    "ExecuteTime": {
     "end_time": "2024-05-01T07:51:02.346069Z",
     "start_time": "2024-05-01T07:51:02.311384Z"
    }
   },
   "cell_type": "code",
   "source": [
    "# 改变元素形状\n",
    "x2 = x1.reshape(3, 4)     # 这里 x2 是 x1 的一个 view，实际上还是 x1\n",
    "print(x2)\n",
    "print(x2.shape)\n",
    "print(x2.numel())"
   ],
   "id": "48f46538af53343f",
   "outputs": [
    {
     "name": "stdout",
     "output_type": "stream",
     "text": [
      "tensor([[ 0,  1,  2,  3],\n",
      "        [ 4,  5,  6,  7],\n",
      "        [ 8,  9, 10, 11]])\n",
      "torch.Size([3, 4])\n",
      "12\n"
     ]
    }
   ],
   "execution_count": 16
  },
  {
   "metadata": {
    "ExecuteTime": {
     "end_time": "2024-05-01T07:51:15.672028Z",
     "start_time": "2024-05-01T07:51:15.660343Z"
    }
   },
   "cell_type": "code",
   "source": [
    "# 设定张量值\n",
    "x3 = torch.zeros((2,3,4))       # 三维全0矩阵\n",
    "x4 = torch.ones((2,3,4))        # 三维全1矩阵\n",
    "x5 = torch.tensor([[1,2,3],[4,5,6]])    # 通过python列表直接赋值\n",
    "print(x3)\n",
    "print(x4)\n",
    "print(x5)"
   ],
   "id": "6b220afd7215c62d",
   "outputs": [
    {
     "name": "stdout",
     "output_type": "stream",
     "text": [
      "tensor([[[0., 0., 0., 0.],\n",
      "         [0., 0., 0., 0.],\n",
      "         [0., 0., 0., 0.]],\n",
      "\n",
      "        [[0., 0., 0., 0.],\n",
      "         [0., 0., 0., 0.],\n",
      "         [0., 0., 0., 0.]]])\n",
      "tensor([[[1., 1., 1., 1.],\n",
      "         [1., 1., 1., 1.],\n",
      "         [1., 1., 1., 1.]],\n",
      "\n",
      "        [[1., 1., 1., 1.],\n",
      "         [1., 1., 1., 1.],\n",
      "         [1., 1., 1., 1.]]])\n",
      "tensor([[1, 2, 3],\n",
      "        [4, 5, 6]])\n"
     ]
    }
   ],
   "execution_count": 17
  },
  {
   "metadata": {
    "ExecuteTime": {
     "end_time": "2024-05-01T07:51:22.750027Z",
     "start_time": "2024-05-01T07:51:22.661041Z"
    }
   },
   "cell_type": "code",
   "source": [
    "# 标准算数运算（按对应元素进行）\n",
    "x = torch.tensor([1,2,4,8])\n",
    "y = torch.tensor([2,2,2,2])\n",
    "print(x+y)\n",
    "print(x-y)\n",
    "print(x*y)\n",
    "print(x/y)\n",
    "print(x**y)\n",
    "print(torch.exp(x))     # e^x"
   ],
   "id": "d96b3cc891784340",
   "outputs": [
    {
     "name": "stdout",
     "output_type": "stream",
     "text": [
      "tensor([ 3,  4,  6, 10])\n",
      "tensor([-1,  0,  2,  6])\n",
      "tensor([ 2,  4,  8, 16])\n",
      "tensor([0.5000, 1.0000, 2.0000, 4.0000])\n",
      "tensor([ 1,  4, 16, 64])\n",
      "tensor([2.7183e+00, 7.3891e+00, 5.4598e+01, 2.9810e+03])\n"
     ]
    }
   ],
   "execution_count": 18
  },
  {
   "metadata": {
    "ExecuteTime": {
     "end_time": "2024-05-01T07:51:29.709979Z",
     "start_time": "2024-05-01T07:51:29.691869Z"
    }
   },
   "cell_type": "code",
   "source": [
    "# 张量之间的运算\n",
    "x = torch.arange(12, dtype=torch.float32).reshape((3,4))\n",
    "y = torch.tensor([[2.0, 1,3,4],[1,2,3,4],[3,4,5,6]])\n",
    "print(x)\n",
    "print(y)\n",
    "print(torch.cat((x,y),dim=0))   # 在第0维合并\n",
    "print(torch.cat((x,y),dim=1))   # 在第1维合并\n",
    "print(x==y)     # 逻辑运算构建张量\n",
    "print(x.sum())  # 返回一个标量"
   ],
   "id": "b5757b5519067c26",
   "outputs": [
    {
     "name": "stdout",
     "output_type": "stream",
     "text": [
      "tensor([[ 0.,  1.,  2.,  3.],\n",
      "        [ 4.,  5.,  6.,  7.],\n",
      "        [ 8.,  9., 10., 11.]])\n",
      "tensor([[2., 1., 3., 4.],\n",
      "        [1., 2., 3., 4.],\n",
      "        [3., 4., 5., 6.]])\n",
      "tensor([[ 0.,  1.,  2.,  3.],\n",
      "        [ 4.,  5.,  6.,  7.],\n",
      "        [ 8.,  9., 10., 11.],\n",
      "        [ 2.,  1.,  3.,  4.],\n",
      "        [ 1.,  2.,  3.,  4.],\n",
      "        [ 3.,  4.,  5.,  6.]])\n",
      "tensor([[ 0.,  1.,  2.,  3.,  2.,  1.,  3.,  4.],\n",
      "        [ 4.,  5.,  6.,  7.,  1.,  2.,  3.,  4.],\n",
      "        [ 8.,  9., 10., 11.,  3.,  4.,  5.,  6.]])\n",
      "tensor([[False,  True, False, False],\n",
      "        [False, False, False, False],\n",
      "        [False, False, False, False]])\n",
      "tensor(66.)\n"
     ]
    }
   ],
   "execution_count": 19
  },
  {
   "metadata": {
    "ExecuteTime": {
     "end_time": "2024-05-01T07:51:36.014194Z",
     "start_time": "2024-05-01T07:51:36.004898Z"
    }
   },
   "cell_type": "code",
   "source": [
    "# 广播机制\n",
    "a = torch.arange(3).reshape((3,1))\n",
    "b = torch.arange(2).reshape((1,2))\n",
    "print(a)\n",
    "print(b)\n",
    "print(a+b)  # 维度相同，每一维进行复制"
   ],
   "id": "1e63c0dbfc7717c8",
   "outputs": [
    {
     "name": "stdout",
     "output_type": "stream",
     "text": [
      "tensor([[0],\n",
      "        [1],\n",
      "        [2]])\n",
      "tensor([[0, 1]])\n",
      "tensor([[0, 1],\n",
      "        [1, 2],\n",
      "        [2, 3]])\n"
     ]
    }
   ],
   "execution_count": 20
  },
  {
   "metadata": {
    "ExecuteTime": {
     "end_time": "2024-05-01T07:51:42.881937Z",
     "start_time": "2024-05-01T07:51:42.850247Z"
    }
   },
   "cell_type": "code",
   "source": [
    "# 访问元素（元素/行/列/子区域/跳转子区域）\n",
    "x = torch.arange(12).reshape((3,4))\n",
    "print(x)\n",
    "print(x[-1])    # 选择最后一个元素\n",
    "print(x[1,2])\n",
    "print(x[1,:])\n",
    "print(x[:,1])\n",
    "print(x[1:3, 1:2])\n",
    "print(x[0::2,1])\n",
    "x[0:2, :] = 12  # 多元素修改\n",
    "print(x)"
   ],
   "id": "43c63c476093106d",
   "outputs": [
    {
     "name": "stdout",
     "output_type": "stream",
     "text": [
      "tensor([[ 0,  1,  2,  3],\n",
      "        [ 4,  5,  6,  7],\n",
      "        [ 8,  9, 10, 11]])\n",
      "tensor([ 8,  9, 10, 11])\n",
      "tensor(6)\n",
      "tensor([4, 5, 6, 7])\n",
      "tensor([1, 5, 9])\n",
      "tensor([[5],\n",
      "        [9]])\n",
      "tensor([1, 9])\n",
      "tensor([[12, 12, 12, 12],\n",
      "        [12, 12, 12, 12],\n",
      "        [ 8,  9, 10, 11]])\n"
     ]
    }
   ],
   "execution_count": 21
  },
  {
   "metadata": {
    "ExecuteTime": {
     "end_time": "2024-05-01T07:51:50.475653Z",
     "start_time": "2024-05-01T07:51:50.452411Z"
    }
   },
   "cell_type": "code",
   "source": [
    "# 内存问题\n",
    "x = torch.arange(12)\n",
    "y = torch.zeros(12)\n",
    "y = x + y       # 新变量\n",
    "y[:] = x + y    # 原地复制\n",
    "y += x          # 原地复制"
   ],
   "id": "62ec3224e387f8a8",
   "outputs": [],
   "execution_count": 22
  },
  {
   "metadata": {
    "ExecuteTime": {
     "end_time": "2024-05-01T07:52:00.379897Z",
     "start_time": "2024-05-01T07:52:00.370731Z"
    }
   },
   "cell_type": "code",
   "source": [
    "# numpy转化\n",
    "x = torch.arange(12).reshape((3,4))\n",
    "A = x.numpy()       # 转化为 numpy\n",
    "B = torch.tensor(A) # 转化为 tensor\n",
    "print(type(A))\n",
    "print(type(B))\n",
    "\n",
    "y = torch.tensor([1.1])\n",
    "print(y)\n",
    "print(y.item())\n",
    "print(float(y))\n",
    "print(int(y))"
   ],
   "id": "3f1f5b4c3d68432e",
   "outputs": [
    {
     "name": "stdout",
     "output_type": "stream",
     "text": [
      "<class 'numpy.ndarray'>\n",
      "<class 'torch.Tensor'>\n",
      "tensor([1.1000])\n",
      "1.100000023841858\n",
      "1.100000023841858\n",
      "1\n"
     ]
    }
   ],
   "execution_count": 23
  }
 ],
 "metadata": {
  "kernelspec": {
   "display_name": "Python 3",
   "language": "python",
   "name": "python3"
  },
  "language_info": {
   "codemirror_mode": {
    "name": "ipython",
    "version": 2
   },
   "file_extension": ".py",
   "mimetype": "text/x-python",
   "name": "python",
   "nbconvert_exporter": "python",
   "pygments_lexer": "ipython2",
   "version": "2.7.6"
  }
 },
 "nbformat": 4,
 "nbformat_minor": 5
}
