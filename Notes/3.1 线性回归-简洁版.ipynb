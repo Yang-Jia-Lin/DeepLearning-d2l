{
 "cells": [
  {
   "metadata": {},
   "cell_type": "markdown",
   "source": "## 三、简洁实现",
   "id": "217a395cfdb0d438"
  },
  {
   "metadata": {},
   "cell_type": "markdown",
   "source": "导包",
   "id": "6874a420b9495b90"
  },
  {
   "metadata": {
    "ExecuteTime": {
     "end_time": "2024-05-17T07:58:59.652403Z",
     "start_time": "2024-05-17T07:58:59.645867Z"
    }
   },
   "cell_type": "code",
   "source": [
    "import numpy as np\n",
    "import torch\n",
    "from torch.utils import data\n",
    "from d2l import torch as d2l"
   ],
   "id": "d210803dc42aaf5a",
   "outputs": [],
   "execution_count": 12
  },
  {
   "metadata": {},
   "cell_type": "markdown",
   "source": "#### 3.1 数据准备",
   "id": "cd12a58483aa920d"
  },
  {
   "metadata": {},
   "cell_type": "markdown",
   "source": "生成人工数据集",
   "id": "817acd740d84577a"
  },
  {
   "metadata": {
    "ExecuteTime": {
     "end_time": "2024-05-17T07:40:46.680669Z",
     "start_time": "2024-05-17T07:40:46.640793Z"
    }
   },
   "cell_type": "code",
   "source": [
    "true_w = torch.tensor([2, -3.7])\n",
    "true_b = 4.2\n",
    "features, labels = d2l.synthetic_data(true_w, true_b, 1000)"
   ],
   "id": "bfbe7b2628532439",
   "outputs": [],
   "execution_count": 2
  },
  {
   "metadata": {},
   "cell_type": "markdown",
   "source": "获取小批量数据迭代器",
   "id": "32341110c1131774"
  },
  {
   "metadata": {
    "ExecuteTime": {
     "end_time": "2024-05-17T07:44:23.551761Z",
     "start_time": "2024-05-17T07:44:23.543806Z"
    }
   },
   "cell_type": "code",
   "source": [
    "def load_array(data_arrays, batch_size, is_train=True):\n",
    "    \"\"\"构造一个PyTorch数据迭代器\"\"\"\n",
    "    dataset = data.TensorDataset(*data_arrays)\n",
    "    return data.DataLoader(dataset, batch_size, shuffle=is_train)"
   ],
   "id": "17eb2f9ce7327592",
   "outputs": [],
   "execution_count": 3
  },
  {
   "metadata": {
    "ExecuteTime": {
     "end_time": "2024-05-17T07:45:56.608481Z",
     "start_time": "2024-05-17T07:45:56.555537Z"
    }
   },
   "cell_type": "code",
   "source": [
    "# 参数定义及迭代器获取\n",
    "batch_size = 10\n",
    "data_iter = load_array((features, labels), batch_size)\n",
    "\n",
    "# 获取一个批量\n",
    "next(iter(data_iter))"
   ],
   "id": "1bc49fa4df3259d6",
   "outputs": [
    {
     "data": {
      "text/plain": [
       "[tensor([[-0.9024,  1.0197],\n",
       "         [-0.7046, -0.5776],\n",
       "         [ 0.1330, -0.2088],\n",
       "         [-0.4328, -0.9588],\n",
       "         [-0.1921, -0.1771],\n",
       "         [ 0.3804,  2.7677],\n",
       "         [-1.3548, -3.0758],\n",
       "         [ 2.0078,  1.7917],\n",
       "         [ 0.0805,  0.8384],\n",
       "         [ 0.4140, -0.0697]]),\n",
       " tensor([[-1.3573],\n",
       "         [ 4.9246],\n",
       "         [ 5.2520],\n",
       "         [ 6.8943],\n",
       "         [ 4.4658],\n",
       "         [-5.2760],\n",
       "         [12.8691],\n",
       "         [ 1.5629],\n",
       "         [ 1.2511],\n",
       "         [ 5.2817]])]"
      ]
     },
     "execution_count": 4,
     "metadata": {},
     "output_type": "execute_result"
    }
   ],
   "execution_count": 4
  },
  {
   "metadata": {},
   "cell_type": "markdown",
   "source": "#### 3.2 模型定义",
   "id": "d1be4fed3fc5e5c"
  },
  {
   "metadata": {},
   "cell_type": "markdown",
   "source": [
    "nn定义了神经网络层\n",
    "1. Linear线性层，提供输入和输出参数数量\n",
    "2. Sequential是layer的数组，按顺序存储layer\n",
    "\n",
    "nn定义了误差的计算\n",
    "1. MSELoss平方范数误差\n",
    "\n",
    "optim模型定义了优化方法\n",
    "1. SGD计算随机梯度，提供网络参数和学习率"
   ],
   "id": "2a53efbc253b02a6"
  },
  {
   "metadata": {},
   "cell_type": "markdown",
   "source": "##### 定义网络net",
   "id": "d8e2d622899361d8"
  },
  {
   "metadata": {
    "ExecuteTime": {
     "end_time": "2024-05-17T07:51:32.065249Z",
     "start_time": "2024-05-17T07:51:32.060700Z"
    }
   },
   "cell_type": "code",
   "source": [
    "from torch import nn\n",
    "\n",
    "net = nn.Sequential(nn.Linear(2, 1))  #Sequential是层的list（按顺序放置）"
   ],
   "id": "d8613919d83f059e",
   "outputs": [],
   "execution_count": 8
  },
  {
   "metadata": {},
   "cell_type": "markdown",
   "source": "##### 初始化网络参数/权重",
   "id": "46f07f0b9839505e"
  },
  {
   "metadata": {},
   "cell_type": "markdown",
   "source": "有默认值，可以跳过",
   "id": "99cfd0ed909fc006"
  },
  {
   "metadata": {
    "ExecuteTime": {
     "end_time": "2024-05-17T07:51:35.046034Z",
     "start_time": "2024-05-17T07:51:35.039038Z"
    }
   },
   "cell_type": "code",
   "source": [
    "net[0].weight.data.normal_(0, 0.01)\n",
    "net[0].bias.data.fill_(0)"
   ],
   "id": "23874a34afee2981",
   "outputs": [
    {
     "data": {
      "text/plain": [
       "tensor([0.])"
      ]
     },
     "execution_count": 9,
     "metadata": {},
     "output_type": "execute_result"
    }
   ],
   "execution_count": 9
  },
  {
   "metadata": {},
   "cell_type": "markdown",
   "source": "##### 定义误差（均方误差）",
   "id": "6cb7864d44d52eac"
  },
  {
   "metadata": {
    "ExecuteTime": {
     "end_time": "2024-05-17T07:54:42.767171Z",
     "start_time": "2024-05-17T07:54:42.763133Z"
    }
   },
   "cell_type": "code",
   "source": "loss = nn.MSELoss()",
   "id": "2c51658286ac8d6d",
   "outputs": [],
   "execution_count": 10
  },
  {
   "metadata": {},
   "cell_type": "markdown",
   "source": "##### 定义优化方法（SGD）",
   "id": "3459167fb0cbd55c"
  },
  {
   "metadata": {
    "ExecuteTime": {
     "end_time": "2024-05-17T07:58:29.189719Z",
     "start_time": "2024-05-17T07:58:29.182993Z"
    }
   },
   "cell_type": "code",
   "source": "trainer = torch.optim.SGD(net.parameters(), lr=0.03)",
   "id": "c333d75ac87f4aed",
   "outputs": [],
   "execution_count": 11
  },
  {
   "metadata": {},
   "cell_type": "markdown",
   "source": "#### 3.3 训练参数",
   "id": "8ab18d48e2364147"
  },
  {
   "metadata": {
    "ExecuteTime": {
     "end_time": "2024-05-17T08:03:56.167387Z",
     "start_time": "2024-05-17T08:03:56.033141Z"
    }
   },
   "cell_type": "code",
   "source": [
    "num_epochs = 3\n",
    "for epoch in range(num_epochs):\n",
    "    for X, y in data_iter:\n",
    "        l = loss(net(X), y)\n",
    "        trainer.zero_grad()\n",
    "        l.backward()\n",
    "        trainer.step() #模型更新\n",
    "    l = loss(net(features), labels)\n",
    "    print(f'epoch {epoch + 1}, loss {l:f}')"
   ],
   "id": "a344c5d5e827cc1",
   "outputs": [
    {
     "name": "stdout",
     "output_type": "stream",
     "text": [
      "epoch 1, loss 0.000105\n",
      "epoch 2, loss 0.000103\n",
      "epoch 3, loss 0.000103\n"
     ]
    }
   ],
   "execution_count": 15
  }
 ],
 "metadata": {
  "kernelspec": {
   "display_name": "Python 3",
   "language": "python",
   "name": "python3"
  },
  "language_info": {
   "codemirror_mode": {
    "name": "ipython",
    "version": 2
   },
   "file_extension": ".py",
   "mimetype": "text/x-python",
   "name": "python",
   "nbconvert_exporter": "python",
   "pygments_lexer": "ipython2",
   "version": "2.7.6"
  }
 },
 "nbformat": 4,
 "nbformat_minor": 5
}
