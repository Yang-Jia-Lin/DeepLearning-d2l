{
 "cells": [
  {
   "metadata": {},
   "cell_type": "markdown",
   "source": [
    "# 3.2 Softmax回归（分类）\n",
    "## 一、基础概念"
   ],
   "id": "c29b3b21e69b011b"
  },
  {
   "metadata": {},
   "cell_type": "markdown",
   "source": [
    "#### 1.1 回归 VS 分类\n",
    "> 回归：估计连续值\n",
    "> \n",
    "> 分类：预测离散类别\n",
    "\n",
    "回归：\n",
    "- 单输出（连续数值）\n",
    "- 自然区间R\n",
    "- 损失是与真实值的差别\n",
    "\n",
    "分类：\n",
    "- 多输出\n",
    "- 每个输出是预测类别的置信度\n",
    "- 一个输入→类别数目个输出"
   ],
   "id": "e924b935d1678b4e"
  },
  {
   "metadata": {},
   "cell_type": "markdown",
   "source": [
    "#### 1.2 回归到分类过度\n",
    "##### 真实情况\n",
    "1. 一个向量输入——所有类别输出 **x→o**\n",
    "2. $o_i$是**x**是第i类的置信度\n",
    "3. y = max $o_i$\n",
    "\n",
    "##### 均方损失\n",
    "1. 对类别进行编码：n个类别就有n个输出\n",
    "2. 使用均方损失进行**训练**\n",
    "3. 使用置信度的最大值进行**预测**\n",
    "\n",
    "##### 无校验比例\n",
    "需要更置信的识别正确类而不是计算结果，即希望\n",
    "    $o_y - o_i ≥ Δ(y,i)$\n",
    "   - $o_y$是正确的分类\n",
    "   - $o_i$是其他的分类\n",
    "   - $Δ(y,i)$是某个阈值\n",
    "\n",
    "##### 校验比例\n",
    "- 匹配概率：输出 操作子softmax，能使得输出**o**满足非负和为1\n",
    "- **y_hat**=softmax(**o**)\n",
    "- **y**和**y_hat**的区别作损失\n",
    "\n",
    "##### 交叉熵损失\n",
    "- 衡量两个概率的区别\n",
    "- 其梯度是真实概率和预测概率的区别\n",
    "- 只关心真实分类的那一个"
   ],
   "id": "b3314fb80d4d8023"
  },
  {
   "metadata": {},
   "cell_type": "markdown",
   "source": [
    "#### 1.3 总结\n",
    "- 多类分类模型\n",
    "- 使用Softmax操作子得到每个类的预测置信度\n",
    "- 使用交叉熵来衡量预测和标号的区别"
   ],
   "id": "de867cc38b90491d"
  },
  {
   "metadata": {},
   "cell_type": "markdown",
   "source": [
    "## 二、损失函数\n",
    "> 用于衡量真实值和预测值之间的区别\n",
    "\n",
    "#### 2.1 均方损失-L2 Loss\n",
    "$$ l(y,y')=\\frac{1}{2}(y-y')^2 $$\n",
    "\n",
    "- 根据距离极值的远近调整梯度的大小，即移动的速度\n",
    "\n",
    "#### 2.2 绝对值损失函数-L1 Loss\n",
    "$$l(y,y')=|y-y'|$$\n",
    "\n",
    "- 不论距离远近，移动速度的大小相同\n",
    "- 梯度不可导\n",
    "\n",
    "#### 2.3 Huber's Robust Loss\n",
    "$$ l(y,y')=\\left\\{\n",
    "\\begin{aligned}\n",
    "|y-y'|-\\frac 12 &  & (|y-y'|>1) \\\\\n",
    "\\frac12(y-y')^2 &  & otherwise \\\\\n",
    "\\end{aligned}\n",
    "\\right.\n",
    "$$"
   ],
   "id": "895e6af59124557b"
  },
  {
   "metadata": {},
   "cell_type": "code",
   "outputs": [],
   "execution_count": null,
   "source": "",
   "id": "e2855247732a288"
  }
 ],
 "metadata": {
  "kernelspec": {
   "display_name": "Python 3",
   "language": "python",
   "name": "python3"
  },
  "language_info": {
   "codemirror_mode": {
    "name": "ipython",
    "version": 2
   },
   "file_extension": ".py",
   "mimetype": "text/x-python",
   "name": "python",
   "nbconvert_exporter": "python",
   "pygments_lexer": "ipython2",
   "version": "2.7.6"
  }
 },
 "nbformat": 4,
 "nbformat_minor": 5
}
