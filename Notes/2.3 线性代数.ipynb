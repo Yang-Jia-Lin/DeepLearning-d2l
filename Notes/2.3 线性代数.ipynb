{
 "cells": [
  {
   "metadata": {
    "ExecuteTime": {
     "end_time": "2024-05-01T07:59:24.014617Z",
     "start_time": "2024-05-01T07:59:23.010604Z"
    }
   },
   "cell_type": "code",
   "source": "import torch",
   "id": "de837cec7cefb567",
   "outputs": [],
   "execution_count": 2
  },
  {
   "metadata": {},
   "cell_type": "markdown",
   "source": "#### 1 标量",
   "id": "d14371ecabdf6140"
  },
  {
   "metadata": {
    "ExecuteTime": {
     "end_time": "2024-05-01T07:59:27.138207Z",
     "start_time": "2024-05-01T07:59:27.103276Z"
    }
   },
   "cell_type": "code",
   "source": [
    "x = torch.tensor([3.0])\n",
    "print(x)"
   ],
   "id": "2139f5c4cb6e0428",
   "outputs": [
    {
     "name": "stdout",
     "output_type": "stream",
     "text": [
      "tensor([3.])\n"
     ]
    }
   ],
   "execution_count": 3
  },
  {
   "metadata": {},
   "cell_type": "markdown",
   "source": "#### 2 向量",
   "id": "4156afa07d09b101"
  },
  {
   "metadata": {
    "ExecuteTime": {
     "end_time": "2024-05-01T08:00:00.945010Z",
     "start_time": "2024-05-01T08:00:00.936707Z"
    }
   },
   "cell_type": "code",
   "source": [
    "y1 = torch.arange(4)\n",
    "y2 = torch.tensor([1,2,3,4])\n",
    "print(y1)\n",
    "print(y2)\n",
    "\n",
    "print(y1[2])\n",
    "print(len(y1))\n",
    "print(y1.shape)"
   ],
   "id": "6430d384da3cb60d",
   "outputs": [
    {
     "name": "stdout",
     "output_type": "stream",
     "text": [
      "tensor([0, 1, 2, 3])\n",
      "tensor([1, 2, 3, 4])\n",
      "tensor(2)\n",
      "4\n",
      "torch.Size([4])\n"
     ]
    }
   ],
   "execution_count": 5
  },
  {
   "metadata": {},
   "cell_type": "markdown",
   "source": "#### 3 矩阵",
   "id": "203e12150d3c4df9"
  },
  {
   "metadata": {
    "ExecuteTime": {
     "end_time": "2024-05-01T08:00:17.021563Z",
     "start_time": "2024-05-01T08:00:17.011166Z"
    }
   },
   "cell_type": "code",
   "source": [
    "A = torch.arange(12).reshape(3,4)\n",
    "print(A)\n",
    "print(A.T)"
   ],
   "id": "8c71a699765d973",
   "outputs": [
    {
     "name": "stdout",
     "output_type": "stream",
     "text": [
      "tensor([[ 0,  1,  2,  3],\n",
      "        [ 4,  5,  6,  7],\n",
      "        [ 8,  9, 10, 11]])\n",
      "tensor([[ 0,  4,  8],\n",
      "        [ 1,  5,  9],\n",
      "        [ 2,  6, 10],\n",
      "        [ 3,  7, 11]])\n"
     ]
    }
   ],
   "execution_count": 7
  },
  {
   "metadata": {},
   "cell_type": "markdown",
   "source": "#### 4 高维张量",
   "id": "54d479649a059d6d"
  },
  {
   "metadata": {
    "ExecuteTime": {
     "end_time": "2024-05-01T08:00:38.356363Z",
     "start_time": "2024-05-01T08:00:38.344185Z"
    }
   },
   "cell_type": "code",
   "source": [
    "X = torch.arange(24).reshape(2,3,4)\n",
    "Y = X.clone()\n",
    "print(X)\n",
    "print(X + Y)    # 按元素相加\n",
    "print(X * Y)    # 按元素相乘（哈达玛积）"
   ],
   "id": "8e3eb37dff024947",
   "outputs": [
    {
     "name": "stdout",
     "output_type": "stream",
     "text": [
      "tensor([[[ 0,  1,  2,  3],\n",
      "         [ 4,  5,  6,  7],\n",
      "         [ 8,  9, 10, 11]],\n",
      "\n",
      "        [[12, 13, 14, 15],\n",
      "         [16, 17, 18, 19],\n",
      "         [20, 21, 22, 23]]])\n",
      "tensor([[[ 0,  2,  4,  6],\n",
      "         [ 8, 10, 12, 14],\n",
      "         [16, 18, 20, 22]],\n",
      "\n",
      "        [[24, 26, 28, 30],\n",
      "         [32, 34, 36, 38],\n",
      "         [40, 42, 44, 46]]])\n",
      "tensor([[[  0,   1,   4,   9],\n",
      "         [ 16,  25,  36,  49],\n",
      "         [ 64,  81, 100, 121]],\n",
      "\n",
      "        [[144, 169, 196, 225],\n",
      "         [256, 289, 324, 361],\n",
      "         [400, 441, 484, 529]]])\n"
     ]
    }
   ],
   "execution_count": 8
  },
  {
   "metadata": {},
   "cell_type": "markdown",
   "source": "#### 5 求和",
   "id": "a73174810e8e6d89"
  },
  {
   "metadata": {
    "ExecuteTime": {
     "end_time": "2024-05-01T08:00:51.925969Z",
     "start_time": "2024-05-01T08:00:51.912537Z"
    }
   },
   "cell_type": "code",
   "source": [
    "X = torch.arange(24).reshape(2,3,4)\n",
    "print(X.shape)  # 张量形状\n",
    "print(X.sum())\n",
    "print(X.sum(axis=0))\n",
    "print(X.sum(axis=1))\n",
    "print(X.sum(axis=2))\n",
    "print(X.sum(axis=0, keepdims=True)) # 保持形状不降维"
   ],
   "id": "58bb4a5537b75f69",
   "outputs": [
    {
     "name": "stdout",
     "output_type": "stream",
     "text": [
      "torch.Size([2, 3, 4])\n",
      "tensor(276)\n",
      "tensor([[12, 14, 16, 18],\n",
      "        [20, 22, 24, 26],\n",
      "        [28, 30, 32, 34]])\n",
      "tensor([[12, 15, 18, 21],\n",
      "        [48, 51, 54, 57]])\n",
      "tensor([[ 6, 22, 38],\n",
      "        [54, 70, 86]])\n",
      "tensor([[[12, 14, 16, 18],\n",
      "         [20, 22, 24, 26],\n",
      "         [28, 30, 32, 34]]])\n"
     ]
    }
   ],
   "execution_count": 9
  },
  {
   "metadata": {},
   "cell_type": "markdown",
   "source": "#### 6 求均值",
   "id": "e5a715a5e35b682c"
  },
  {
   "metadata": {
    "ExecuteTime": {
     "end_time": "2024-05-01T08:00:53.871527Z",
     "start_time": "2024-05-01T08:00:53.860330Z"
    }
   },
   "cell_type": "code",
   "source": [
    "X = torch.randn(24).reshape(2,3,4)\n",
    "print(X.mean())\n",
    "print(X.sum() / X.numel())\n",
    "print(X.mean(axis=0))\n",
    "print(X.sum(axis=0) / X.shape[0])"
   ],
   "id": "d5ecfcd35df85c5a",
   "outputs": [
    {
     "name": "stdout",
     "output_type": "stream",
     "text": [
      "tensor(-0.4059)\n",
      "tensor(-0.4059)\n",
      "tensor([[-0.4822, -0.0095, -0.8016, -1.0416],\n",
      "        [ 0.2378, -0.3561,  0.3217, -0.9178],\n",
      "        [-0.6444,  0.1630, -1.0322, -0.3078]])\n",
      "tensor([[-0.4822, -0.0095, -0.8016, -1.0416],\n",
      "        [ 0.2378, -0.3561,  0.3217, -0.9178],\n",
      "        [-0.6444,  0.1630, -1.0322, -0.3078]])\n"
     ]
    }
   ],
   "execution_count": 10
  },
  {
   "metadata": {},
   "cell_type": "markdown",
   "source": "#### 7 乘法",
   "id": "b0b561c335d25e2a"
  },
  {
   "metadata": {
    "ExecuteTime": {
     "end_time": "2024-05-01T08:01:00.002922Z",
     "start_time": "2024-05-01T08:00:59.984777Z"
    }
   },
   "cell_type": "code",
   "source": [
    "x = torch.arange(4.0)\n",
    "y = torch.ones(4)\n",
    "print(torch.dot(x,y))   # 向量点积\n",
    "print(torch.sum(x * y)) # 等价于点积\n",
    "A = torch.arange(20.0).reshape(5, 4)\n",
    "print(torch.mv(A,x))      # 矩阵 × 向量\n",
    "B = torch.arange(20.0).reshape(4, 5)\n",
    "print(torch.mm(A,B))    # 矩阵 × 矩阵"
   ],
   "id": "91cc65e3b3568b3e",
   "outputs": [
    {
     "name": "stdout",
     "output_type": "stream",
     "text": [
      "tensor(6.)\n",
      "tensor(6.)\n",
      "tensor([ 14.,  38.,  62.,  86., 110.])\n",
      "tensor([[ 70.,  76.,  82.,  88.,  94.],\n",
      "        [190., 212., 234., 256., 278.],\n",
      "        [310., 348., 386., 424., 462.],\n",
      "        [430., 484., 538., 592., 646.],\n",
      "        [550., 620., 690., 760., 830.]])\n"
     ]
    }
   ],
   "execution_count": 11
  },
  {
   "metadata": {},
   "cell_type": "markdown",
   "source": "#### 8 范数",
   "id": "948a67d9e62e2ffc"
  },
  {
   "metadata": {
    "ExecuteTime": {
     "end_time": "2024-05-01T08:01:05.069224Z",
     "start_time": "2024-05-01T08:01:05.061766Z"
    }
   },
   "cell_type": "code",
   "source": [
    "u = torch.tensor([3.0, -4.0])\n",
    "print(torch.abs(u).sum())   # 向量的 L1 范数\n",
    "print(torch.norm(u))        # 向量的 L2 范数\n",
    "\n",
    "U = torch.ones(4, 9)\n",
    "print(torch.norm(U))        # 矩阵的 F 范数"
   ],
   "id": "e71b2ca3ed75d1fb",
   "outputs": [
    {
     "name": "stdout",
     "output_type": "stream",
     "text": [
      "tensor(7.)\n",
      "tensor(5.)\n",
      "tensor(6.)\n"
     ]
    }
   ],
   "execution_count": 12
  }
 ],
 "metadata": {
  "kernelspec": {
   "display_name": "Python 3",
   "language": "python",
   "name": "python3"
  },
  "language_info": {
   "codemirror_mode": {
    "name": "ipython",
    "version": 2
   },
   "file_extension": ".py",
   "mimetype": "text/x-python",
   "name": "python",
   "nbconvert_exporter": "python",
   "pygments_lexer": "ipython2",
   "version": "2.7.6"
  }
 },
 "nbformat": 4,
 "nbformat_minor": 5
}
