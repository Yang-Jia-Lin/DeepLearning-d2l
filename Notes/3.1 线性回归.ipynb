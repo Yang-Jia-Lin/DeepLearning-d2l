{
 "cells": [
  {
   "metadata": {},
   "cell_type": "markdown",
   "source": "# 3.1 线性回归基础",
   "id": "b9f0215890a39cb7"
  },
  {
   "cell_type": "code",
   "id": "initial_id",
   "metadata": {
    "collapsed": true,
    "ExecuteTime": {
     "end_time": "2024-05-02T08:41:49.966186Z",
     "start_time": "2024-05-02T08:41:49.961060Z"
    }
   },
   "source": [
    ""
   ],
   "outputs": [],
   "execution_count": null
  }
 ],
 "metadata": {
  "kernelspec": {
   "display_name": "Python 3",
   "language": "python",
   "name": "python3"
  },
  "language_info": {
   "codemirror_mode": {
    "name": "ipython",
    "version": 2
   },
   "file_extension": ".py",
   "mimetype": "text/x-python",
   "name": "python",
   "nbconvert_exporter": "python",
   "pygments_lexer": "ipython2",
   "version": "2.7.6"
  }
 },
 "nbformat": 4,
 "nbformat_minor": 5
}
