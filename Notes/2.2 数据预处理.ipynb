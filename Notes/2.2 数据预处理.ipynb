{
 "cells": [
  {
   "metadata": {},
   "cell_type": "markdown",
   "source": "# 2.2 数据预处理",
   "id": "6c3af62cdf240d8e"
  },
  {
   "cell_type": "code",
   "id": "initial_id",
   "metadata": {
    "collapsed": true,
    "ExecuteTime": {
     "end_time": "2024-05-02T08:35:37.820733Z",
     "start_time": "2024-05-02T08:35:37.805536Z"
    }
   },
   "source": "import os",
   "outputs": [],
   "execution_count": 1
  },
  {
   "metadata": {},
   "cell_type": "markdown",
   "source": "#### 1 创建人工数据集并存储与CSV",
   "id": "4ee400df382a3be1"
  },
  {
   "metadata": {
    "ExecuteTime": {
     "end_time": "2024-05-02T08:36:00.727442Z",
     "start_time": "2024-05-02T08:36:00.717080Z"
    }
   },
   "cell_type": "code",
   "source": [
    "os.makedirs(os.path.join('.', 'NotesData'), exist_ok=True)      # 创建目录\n",
    "data_file = os.path.join('.', 'NotesData', 'house_tiny.csv')    # 新csv文件的路径字符串\n",
    "with open(data_file, 'w') as f:\n",
    "    f.write('NumRooms,RoofType,Price\\n')\n",
    "    f.write('NA,NA,127500\\n')\n",
    "    f.write('2,NA,106000\\n')\n",
    "    f.write('4,Slate,178100\\n')\n",
    "    f.write('NA,NA,140000\\n')"
   ],
   "id": "2554c966a5053c4b",
   "outputs": [],
   "execution_count": 2
  },
  {
   "metadata": {},
   "cell_type": "markdown",
   "source": "#### 2 使用 pandas 读取数据",
   "id": "3b4bb5d9d12735e7"
  },
  {
   "metadata": {
    "ExecuteTime": {
     "end_time": "2024-05-01T07:55:55.640336Z",
     "start_time": "2024-05-01T07:55:55.115246Z"
    }
   },
   "cell_type": "code",
   "source": [
    "import pandas as pd\n",
    "data = pd.read_csv(data_file)\n",
    "print(data)"
   ],
   "id": "4b5cd2b3ae8ed026",
   "outputs": [
    {
     "name": "stdout",
     "output_type": "stream",
     "text": [
      "   NumRooms RoofType   Price\n",
      "0       NaN      NaN  127500\n",
      "1       2.0      NaN  106000\n",
      "2       4.0    Slate  178100\n",
      "3       NaN      NaN  140000\n"
     ]
    }
   ],
   "execution_count": 3
  },
  {
   "metadata": {},
   "cell_type": "markdown",
   "source": "#### 3 处理缺失数据 NA —— 插值/删除",
   "id": "6e58fe77c70034a1"
  },
  {
   "metadata": {
    "ExecuteTime": {
     "end_time": "2024-05-01T07:57:26.982816Z",
     "start_time": "2024-05-01T07:57:26.916396Z"
    }
   },
   "cell_type": "code",
   "source": [
    "inputs = data.iloc[:, 0:2]  # 除了最后一列\n",
    "outputs = data.iloc[:, 2]   # 最后一列\n",
    "print(inputs)\n",
    "print(outputs)\n",
    "\n",
    "inputs= inputs.fillna(inputs.mean()) # 数字取均值\n",
    "print(inputs)\n",
    "inputs = pd.get_dummies(inputs, dummy_na=True) # 非数字根据类别取特征\n",
    "print(inputs)"
   ],
   "id": "c2b1783fe1baba47",
   "outputs": [
    {
     "name": "stdout",
     "output_type": "stream",
     "text": [
      "   NumRooms RoofType\n",
      "0       NaN      NaN\n",
      "1       2.0      NaN\n",
      "2       4.0    Slate\n",
      "3       NaN      NaN\n",
      "0    127500\n",
      "1    106000\n",
      "2    178100\n",
      "3    140000\n",
      "Name: Price, dtype: int64\n",
      "   NumRooms RoofType\n",
      "0       3.0      NaN\n",
      "1       2.0      NaN\n",
      "2       4.0    Slate\n",
      "3       3.0      NaN\n",
      "   NumRooms  RoofType_Slate  RoofType_nan\n",
      "0       3.0               0             1\n",
      "1       2.0               0             1\n",
      "2       4.0               1             0\n",
      "3       3.0               0             1\n"
     ]
    }
   ],
   "execution_count": 4
  },
  {
   "metadata": {},
   "cell_type": "markdown",
   "source": "#### 4 处理纯数字csv数据为张量tensor",
   "id": "fa91089c6ff50bfd"
  },
  {
   "metadata": {
    "ExecuteTime": {
     "end_time": "2024-05-01T07:57:34.313044Z",
     "start_time": "2024-05-01T07:57:33.424843Z"
    }
   },
   "cell_type": "code",
   "source": [
    "import torch\n",
    "X = torch.tensor(inputs.values)\n",
    "y = torch.tensor(outputs.values)\n",
    "print(X)\n",
    "print(y)"
   ],
   "id": "80a07493edbc26f4",
   "outputs": [
    {
     "name": "stdout",
     "output_type": "stream",
     "text": [
      "tensor([[3., 0., 1.],\n",
      "        [2., 0., 1.],\n",
      "        [4., 1., 0.],\n",
      "        [3., 0., 1.]], dtype=torch.float64)\n",
      "tensor([127500, 106000, 178100, 140000])\n"
     ]
    }
   ],
   "execution_count": 5
  }
 ],
 "metadata": {
  "kernelspec": {
   "display_name": "Python 3",
   "language": "python",
   "name": "python3"
  },
  "language_info": {
   "codemirror_mode": {
    "name": "ipython",
    "version": 2
   },
   "file_extension": ".py",
   "mimetype": "text/x-python",
   "name": "python",
   "nbconvert_exporter": "python",
   "pygments_lexer": "ipython2",
   "version": "2.7.6"
  }
 },
 "nbformat": 4,
 "nbformat_minor": 5
}
