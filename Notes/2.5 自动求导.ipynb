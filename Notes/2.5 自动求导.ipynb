{
 "cells": [
  {
   "metadata": {},
   "cell_type": "markdown",
   "source": "# 2.5 自动求导实现",
   "id": "8b8afed2c3a54975"
  },
  {
   "cell_type": "code",
   "id": "initial_id",
   "metadata": {
    "collapsed": true,
    "ExecuteTime": {
     "end_time": "2024-05-01T09:41:02.047919Z",
     "start_time": "2024-05-01T09:41:00.932462Z"
    }
   },
   "source": [
    "import torch\n",
    "\n",
    "x = torch.arange(4.0)\n",
    "x"
   ],
   "outputs": [
    {
     "data": {
      "text/plain": [
       "tensor([0., 1., 2., 3.])"
      ]
     },
     "execution_count": 1,
     "metadata": {},
     "output_type": "execute_result"
    }
   ],
   "execution_count": 1
  },
  {
   "metadata": {},
   "cell_type": "markdown",
   "source": [
    "计算y关于x的梯度之前需要存储每一层的梯度\n",
    "之后可以通过x.grad访问梯度"
   ],
   "id": "b9c7ed892839b561"
  },
  {
   "metadata": {
    "ExecuteTime": {
     "end_time": "2024-05-01T09:42:54.678409Z",
     "start_time": "2024-05-01T09:42:54.673476Z"
    }
   },
   "cell_type": "code",
   "source": [
    "x.requires_grad_(True)\n",
    "x.grad"
   ],
   "id": "aa87e975f08f2d84",
   "outputs": [],
   "execution_count": 2
  },
  {
   "metadata": {},
   "cell_type": "markdown",
   "source": "正向计算y",
   "id": "12b9c95352bb8727"
  },
  {
   "metadata": {
    "ExecuteTime": {
     "end_time": "2024-05-01T09:43:40.732433Z",
     "start_time": "2024-05-01T09:43:40.709422Z"
    }
   },
   "cell_type": "code",
   "source": [
    "y = 2 * torch.dot(x, x)\n",
    "y"
   ],
   "id": "bf68a7c519797b89",
   "outputs": [
    {
     "data": {
      "text/plain": [
       "tensor(28., grad_fn=<MulBackward0>)"
      ]
     },
     "execution_count": 3,
     "metadata": {},
     "output_type": "execute_result"
    }
   ],
   "execution_count": 3
  },
  {
   "metadata": {},
   "cell_type": "markdown",
   "source": "反向传播",
   "id": "2e415de00a5e1b1b"
  },
  {
   "metadata": {
    "ExecuteTime": {
     "end_time": "2024-05-01T09:44:15.474023Z",
     "start_time": "2024-05-01T09:44:15.325803Z"
    }
   },
   "cell_type": "code",
   "source": "y.backward()",
   "id": "992c84ed375e2db1",
   "outputs": [],
   "execution_count": 4
  },
  {
   "metadata": {
    "ExecuteTime": {
     "end_time": "2024-05-01T09:44:31.717404Z",
     "start_time": "2024-05-01T09:44:31.710774Z"
    }
   },
   "cell_type": "code",
   "source": "x.grad",
   "id": "a697d079e580a2d6",
   "outputs": [
    {
     "data": {
      "text/plain": [
       "tensor([ 0.,  4.,  8., 12.])"
      ]
     },
     "execution_count": 5,
     "metadata": {},
     "output_type": "execute_result"
    }
   ],
   "execution_count": 5
  },
  {
   "metadata": {},
   "cell_type": "markdown",
   "source": "验证",
   "id": "63c2765d0aa676b6"
  },
  {
   "metadata": {
    "ExecuteTime": {
     "end_time": "2024-05-01T09:45:30.526561Z",
     "start_time": "2024-05-01T09:45:30.517107Z"
    }
   },
   "cell_type": "code",
   "source": "x.grad == 4 * x",
   "id": "4ea887ff523c6e50",
   "outputs": [
    {
     "data": {
      "text/plain": [
       "tensor([True, True, True, True])"
      ]
     },
     "execution_count": 6,
     "metadata": {},
     "output_type": "execute_result"
    }
   ],
   "execution_count": 6
  },
  {
   "metadata": {},
   "cell_type": "markdown",
   "source": "清除梯度",
   "id": "a8da914256637662"
  },
  {
   "metadata": {
    "ExecuteTime": {
     "end_time": "2024-05-01T09:46:34.645284Z",
     "start_time": "2024-05-01T09:46:34.620978Z"
    }
   },
   "cell_type": "code",
   "source": [
    "x.grad.zero_()\n",
    "y = x.sum()\n",
    "y.backward()\n",
    "x.grad"
   ],
   "id": "b830b67077e3bd6e",
   "outputs": [
    {
     "data": {
      "text/plain": [
       "tensor([1., 1., 1., 1.])"
      ]
     },
     "execution_count": 7,
     "metadata": {},
     "output_type": "execute_result"
    }
   ],
   "execution_count": 7
  },
  {
   "metadata": {},
   "cell_type": "markdown",
   "source": "将一些计算移到计算图以外",
   "id": "8b04a5700e948e35"
  },
  {
   "metadata": {
    "ExecuteTime": {
     "end_time": "2024-05-01T09:49:00.982709Z",
     "start_time": "2024-05-01T09:49:00.971583Z"
    }
   },
   "cell_type": "code",
   "source": [
    "x.grad.zero_()\n",
    "y = x * x\n",
    "u = y.detach()\n",
    "z = u * x\n",
    "\n",
    "z.sum().backward()\n",
    "x.grad == u"
   ],
   "id": "d0c8a1550e085309",
   "outputs": [
    {
     "data": {
      "text/plain": [
       "tensor([True, True, True, True])"
      ]
     },
     "execution_count": 8,
     "metadata": {},
     "output_type": "execute_result"
    }
   ],
   "execution_count": 8
  },
  {
   "metadata": {
    "ExecuteTime": {
     "end_time": "2024-05-01T09:49:52.062268Z",
     "start_time": "2024-05-01T09:49:52.050979Z"
    }
   },
   "cell_type": "code",
   "source": [
    "x.grad.zero_()\n",
    "y.sum().backward()\n",
    "x.grad == 2 * x"
   ],
   "id": "bbea79e15b6e83bb",
   "outputs": [
    {
     "data": {
      "text/plain": [
       "tensor([True, True, True, True])"
      ]
     },
     "execution_count": 9,
     "metadata": {},
     "output_type": "execute_result"
    }
   ],
   "execution_count": 9
  }
 ],
 "metadata": {
  "kernelspec": {
   "display_name": "Python 3",
   "language": "python",
   "name": "python3"
  },
  "language_info": {
   "codemirror_mode": {
    "name": "ipython",
    "version": 2
   },
   "file_extension": ".py",
   "mimetype": "text/x-python",
   "name": "python",
   "nbconvert_exporter": "python",
   "pygments_lexer": "ipython2",
   "version": "2.7.6"
  }
 },
 "nbformat": 4,
 "nbformat_minor": 5
}
