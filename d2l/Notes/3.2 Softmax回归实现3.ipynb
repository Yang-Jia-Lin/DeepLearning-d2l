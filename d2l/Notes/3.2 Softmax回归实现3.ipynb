{
 "cells": [
  {
   "metadata": {},
   "cell_type": "markdown",
   "source": "## 五、简洁实现",
   "id": "2bbca43bc62c93d0"
  },
  {
   "cell_type": "code",
   "id": "initial_id",
   "metadata": {
    "collapsed": true,
    "ExecuteTime": {
     "end_time": "2024-05-17T14:21:46.130106Z",
     "start_time": "2024-05-17T14:21:42.559080Z"
    }
   },
   "source": [
    "import torch\n",
    "from torch import nn\n",
    "from d2l import torch as d2l"
   ],
   "outputs": [],
   "execution_count": 1
  },
  {
   "metadata": {},
   "cell_type": "markdown",
   "source": "#### 5.1 数据准备",
   "id": "24bd5d85d42ba085"
  },
  {
   "metadata": {
    "ExecuteTime": {
     "end_time": "2024-05-17T14:23:46.169020Z",
     "start_time": "2024-05-17T14:23:45.655432Z"
    }
   },
   "cell_type": "code",
   "source": [
    "batch_size = 256\n",
    "train_iter, test_iter = d2l.load_data_fashion_mnist(batch_size)"
   ],
   "id": "ce046f2e308ac3c8",
   "outputs": [],
   "execution_count": 2
  },
  {
   "metadata": {},
   "cell_type": "markdown",
   "source": "#### 5.2 模型定义",
   "id": "f50559404cc2809b"
  },
  {
   "metadata": {},
   "cell_type": "markdown",
   "source": [
    "##### 网络结构 net\n",
    "1. 层1：展开层\n",
    "2. 层2：线性层"
   ],
   "id": "e448a3738d1db04a"
  },
  {
   "metadata": {
    "ExecuteTime": {
     "end_time": "2024-05-17T14:25:36.830702Z",
     "start_time": "2024-05-17T14:25:36.816602Z"
    }
   },
   "cell_type": "code",
   "source": [
    "net = nn.Sequential(nn.Flatten(), nn.Linear(784, 10))\n",
    "\n",
    "def init_weights(m):\n",
    "    if type(m) == nn.Linear:\n",
    "        nn.init.normal_(m.weight, std=0.01)\n",
    "\n",
    "net.apply(init_weights)"
   ],
   "id": "d8278c37dce1bfc8",
   "outputs": [
    {
     "data": {
      "text/plain": [
       "Sequential(\n",
       "  (0): Flatten(start_dim=1, end_dim=-1)\n",
       "  (1): Linear(in_features=784, out_features=10, bias=True)\n",
       ")"
      ]
     },
     "execution_count": 3,
     "metadata": {},
     "output_type": "execute_result"
    }
   ],
   "execution_count": 3
  },
  {
   "metadata": {},
   "cell_type": "markdown",
   "source": "##### 损失函数 loss",
   "id": "be9afa72046c8d43"
  },
  {
   "metadata": {
    "ExecuteTime": {
     "end_time": "2024-05-17T14:27:56.238343Z",
     "start_time": "2024-05-17T14:27:56.231652Z"
    }
   },
   "cell_type": "code",
   "source": "loss = nn.CrossEntropyLoss() ",
   "id": "9c5a7335fa3e7fc4",
   "outputs": [],
   "execution_count": 4
  },
  {
   "metadata": {},
   "cell_type": "markdown",
   "source": "##### 优化算法 trainer",
   "id": "ff3f4c2dfa40ebba"
  },
  {
   "metadata": {
    "ExecuteTime": {
     "end_time": "2024-05-17T14:28:26.790719Z",
     "start_time": "2024-05-17T14:28:26.783282Z"
    }
   },
   "cell_type": "code",
   "source": "trainer = torch.optim.SGD(net.parameters(), lr=0.1)",
   "id": "a84b1b07ad9d3769",
   "outputs": [],
   "execution_count": 5
  },
  {
   "metadata": {},
   "cell_type": "markdown",
   "source": "#### 5.4 训练模型",
   "id": "37689c6817ddd444"
  },
  {
   "metadata": {
    "ExecuteTime": {
     "end_time": "2024-05-17T14:30:07.929876Z",
     "start_time": "2024-05-17T14:30:07.898510Z"
    }
   },
   "cell_type": "code",
   "source": [
    "num_epochs = 10\n",
    "d2l.train_ch3(net, train_iter, test_iter, loss, num_epochs, trainer)"
   ],
   "id": "cf4fa21b7a5afe93",
   "outputs": [
    {
     "ename": "AttributeError",
     "evalue": "module 'd2l.torch' has no attribute 'train_ch3'",
     "output_type": "error",
     "traceback": [
      "\u001B[0;31m---------------------------------------------------------------------------\u001B[0m",
      "\u001B[0;31mAttributeError\u001B[0m                            Traceback (most recent call last)",
      "Cell \u001B[0;32mIn[6], line 2\u001B[0m\n\u001B[1;32m      1\u001B[0m num_epochs \u001B[38;5;241m=\u001B[39m \u001B[38;5;241m10\u001B[39m\n\u001B[0;32m----> 2\u001B[0m \u001B[43md2l\u001B[49m\u001B[38;5;241;43m.\u001B[39;49m\u001B[43mtrain_ch3\u001B[49m(net, train_iter, test_iter, loss, num_epochs, trainer)\n",
      "\u001B[0;31mAttributeError\u001B[0m: module 'd2l.torch' has no attribute 'train_ch3'"
     ]
    }
   ],
   "execution_count": 6
  },
  {
   "metadata": {},
   "cell_type": "code",
   "outputs": [],
   "execution_count": null,
   "source": "",
   "id": "7b09c3eccad74d23"
  }
 ],
 "metadata": {
  "kernelspec": {
   "display_name": "Python 3",
   "language": "python",
   "name": "python3"
  },
  "language_info": {
   "codemirror_mode": {
    "name": "ipython",
    "version": 2
   },
   "file_extension": ".py",
   "mimetype": "text/x-python",
   "name": "python",
   "nbconvert_exporter": "python",
   "pygments_lexer": "ipython2",
   "version": "2.7.6"
  }
 },
 "nbformat": 4,
 "nbformat_minor": 5
}
