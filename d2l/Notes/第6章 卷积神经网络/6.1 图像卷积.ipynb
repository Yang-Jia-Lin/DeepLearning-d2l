{
 "cells": [
  {
   "metadata": {},
   "cell_type": "markdown",
   "source": "# 图像卷积",
   "id": "f622e773e554a1a0"
  },
  {
   "metadata": {
    "ExecuteTime": {
     "end_time": "2024-06-01T04:37:15.840591Z",
     "start_time": "2024-06-01T04:37:10.050418Z"
    }
   },
   "cell_type": "code",
   "source": [
    "import torch\n",
    "from torch import nn"
   ],
   "id": "c1f894909846bcc",
   "outputs": [],
   "execution_count": 1
  },
  {
   "metadata": {},
   "cell_type": "markdown",
   "source": "#### 1.二维交互相关运算",
   "id": "5b44d3b82e9f77d4"
  },
  {
   "cell_type": "code",
   "id": "initial_id",
   "metadata": {
    "collapsed": true,
    "ExecuteTime": {
     "end_time": "2024-06-01T04:40:47.780232Z",
     "start_time": "2024-06-01T04:40:47.770060Z"
    }
   },
   "source": [
    "def corr2d(X, K):\n",
    "    \"\"\"二维互相关运算\"\"\"\n",
    "    h, w = K.shape\n",
    "    Y = torch.zeros(\n",
    "        (X.shape[0] - h + 1, X.shape[1] - w + 1)\n",
    "    )\n",
    "    for i in range(Y.shape[0]):\n",
    "        for j in range(Y.shape[1]):\n",
    "            Y[i, j] = (X[i:i + h, j:j + w] * K).sum()\n",
    "    return Y"
   ],
   "outputs": [],
   "execution_count": 2
  },
  {
   "metadata": {
    "ExecuteTime": {
     "end_time": "2024-06-01T04:44:10.970093Z",
     "start_time": "2024-06-01T04:44:10.835494Z"
    }
   },
   "cell_type": "code",
   "source": [
    "# 验证\n",
    "X = torch.tensor([[0, 1, 2], [3, 4, 5], [6, 7, 8]])\n",
    "K = torch.tensor([[0, 1], [2, 3]])\n",
    "corr2d(X, K)"
   ],
   "id": "4281200fd19e53fb",
   "outputs": [
    {
     "data": {
      "text/plain": [
       "tensor([[19., 25.],\n",
       "        [37., 43.]])"
      ]
     },
     "execution_count": 3,
     "metadata": {},
     "output_type": "execute_result"
    }
   ],
   "execution_count": 3
  },
  {
   "metadata": {},
   "cell_type": "markdown",
   "source": "#### 2.二维卷积层从零开始实现",
   "id": "e287583c3b44b778"
  },
  {
   "metadata": {
    "ExecuteTime": {
     "end_time": "2024-06-01T04:47:04.930367Z",
     "start_time": "2024-06-01T04:47:04.921665Z"
    }
   },
   "cell_type": "code",
   "source": [
    "class Conv2D(nn.Module):\n",
    "    def __init__(self, kernel_size):\n",
    "        super().__init__()\n",
    "        self.weight = nn.Parameter(torch.rand(kernel_size))\n",
    "        self.bias = nn.Parameter(torch.zeros(1))\n",
    "\n",
    "    def forward(self, x):\n",
    "        return corr2d(x, self.weight) + self.bias"
   ],
   "id": "ea33e00ba5e401a2",
   "outputs": [],
   "execution_count": 4
  },
  {
   "metadata": {},
   "cell_type": "markdown",
   "source": "简单测试边缘",
   "id": "814b7ab9e67b11fe"
  },
  {
   "metadata": {
    "ExecuteTime": {
     "end_time": "2024-06-01T04:53:09.842834Z",
     "start_time": "2024-06-01T04:53:09.815073Z"
    }
   },
   "cell_type": "code",
   "source": [
    "X = torch.ones((6, 8))\n",
    "X[:, 2:6] = 0\n",
    "X"
   ],
   "id": "f6bd25d1a889372d",
   "outputs": [
    {
     "data": {
      "text/plain": [
       "tensor([[1., 1., 0., 0., 0., 0., 1., 1.],\n",
       "        [1., 1., 0., 0., 0., 0., 1., 1.],\n",
       "        [1., 1., 0., 0., 0., 0., 1., 1.],\n",
       "        [1., 1., 0., 0., 0., 0., 1., 1.],\n",
       "        [1., 1., 0., 0., 0., 0., 1., 1.],\n",
       "        [1., 1., 0., 0., 0., 0., 1., 1.]])"
      ]
     },
     "execution_count": 5,
     "metadata": {},
     "output_type": "execute_result"
    }
   ],
   "execution_count": 5
  },
  {
   "metadata": {
    "ExecuteTime": {
     "end_time": "2024-06-01T04:53:43.278727Z",
     "start_time": "2024-06-01T04:53:43.272485Z"
    }
   },
   "cell_type": "code",
   "source": "K = torch.tensor([[1.0, -1.0]]) # 卷积核",
   "id": "61b404496ec60d5e",
   "outputs": [],
   "execution_count": 6
  },
  {
   "metadata": {
    "ExecuteTime": {
     "end_time": "2024-06-01T04:54:15.010121Z",
     "start_time": "2024-06-01T04:54:14.998217Z"
    }
   },
   "cell_type": "code",
   "source": [
    "Y = corr2d(X,K)\n",
    "Y"
   ],
   "id": "b6e6f549e5f9bea9",
   "outputs": [
    {
     "data": {
      "text/plain": [
       "tensor([[ 0.,  1.,  0.,  0.,  0., -1.,  0.],\n",
       "        [ 0.,  1.,  0.,  0.,  0., -1.,  0.],\n",
       "        [ 0.,  1.,  0.,  0.,  0., -1.,  0.],\n",
       "        [ 0.,  1.,  0.,  0.,  0., -1.,  0.],\n",
       "        [ 0.,  1.,  0.,  0.,  0., -1.,  0.],\n",
       "        [ 0.,  1.,  0.,  0.,  0., -1.,  0.]])"
      ]
     },
     "execution_count": 7,
     "metadata": {},
     "output_type": "execute_result"
    }
   ],
   "execution_count": 7
  },
  {
   "metadata": {},
   "cell_type": "markdown",
   "source": "#### 3. 简单实现学习",
   "id": "a8565318ba30c024"
  },
  {
   "metadata": {
    "ExecuteTime": {
     "end_time": "2024-06-01T04:59:05.471163Z",
     "start_time": "2024-06-01T04:59:05.373501Z"
    }
   },
   "cell_type": "code",
   "source": [
    "conv2d = nn.Conv2d(1, 1, kernel_size=(1, 2), bias=False)\n",
    "\n",
    "X = X.reshape((1, 1, 6, 8))\n",
    "Y = Y.reshape((1, 1, 6, 7))\n",
    "\n",
    "# 训练\n",
    "for i in range(10):\n",
    "    Y_hat = conv2d(X)\n",
    "    l = (Y_hat-Y)**2\n",
    "    conv2d.zero_grad()\n",
    "    l.sum().backward()\n",
    "    conv2d.weight.data[:] -= 3e-2 * conv2d.weight.grad\n",
    "    if(i+1)%2==0:\n",
    "        print(f'batch {i+1}, loss {l.sum():.3f}')"
   ],
   "id": "72bb9431fc51adee",
   "outputs": [
    {
     "name": "stdout",
     "output_type": "stream",
     "text": [
      "batch 2, loss 14.571\n",
      "batch 4, loss 4.608\n",
      "batch 6, loss 1.659\n",
      "batch 8, loss 0.641\n",
      "batch 10, loss 0.256\n"
     ]
    }
   ],
   "execution_count": 9
  },
  {
   "metadata": {
    "ExecuteTime": {
     "end_time": "2024-06-01T05:00:55.944583Z",
     "start_time": "2024-06-01T05:00:55.934687Z"
    }
   },
   "cell_type": "code",
   "source": "conv2d.weight.data.reshape((1,2))",
   "id": "181e4eecf7615165",
   "outputs": [
    {
     "data": {
      "text/plain": [
       "tensor([[ 0.9358, -1.0395]])"
      ]
     },
     "execution_count": 10,
     "metadata": {},
     "output_type": "execute_result"
    }
   ],
   "execution_count": 10
  }
 ],
 "metadata": {
  "kernelspec": {
   "display_name": "Python 3",
   "language": "python",
   "name": "python3"
  },
  "language_info": {
   "codemirror_mode": {
    "name": "ipython",
    "version": 2
   },
   "file_extension": ".py",
   "mimetype": "text/x-python",
   "name": "python",
   "nbconvert_exporter": "python",
   "pygments_lexer": "ipython2",
   "version": "2.7.6"
  }
 },
 "nbformat": 4,
 "nbformat_minor": 5
}
