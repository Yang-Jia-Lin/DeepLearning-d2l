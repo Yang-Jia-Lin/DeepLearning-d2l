{
 "cells": [
  {
   "metadata": {},
   "cell_type": "markdown",
   "source": "# 多输入多输出通道",
   "id": "6b115a02b8fac841"
  },
  {
   "cell_type": "code",
   "id": "initial_id",
   "metadata": {
    "collapsed": true,
    "ExecuteTime": {
     "end_time": "2024-06-01T06:30:09.755524Z",
     "start_time": "2024-06-01T06:30:09.751834Z"
    }
   },
   "source": [
    "import torch\n",
    "from d2l import torch as d2l"
   ],
   "outputs": [],
   "execution_count": 2
  },
  {
   "metadata": {},
   "cell_type": "markdown",
   "source": "#### 1. 多通道输入互相关运算",
   "id": "a0c33bc812709462"
  },
  {
   "metadata": {
    "ExecuteTime": {
     "end_time": "2024-06-01T06:30:11.905132Z",
     "start_time": "2024-06-01T06:30:11.897871Z"
    }
   },
   "cell_type": "code",
   "source": [
    "def corr2d_multi_in(X, K):\n",
    "    return sum(d2l.corr2d(x, k) for x, k in zip(X, K))"
   ],
   "id": "1481bd538a12a209",
   "outputs": [],
   "execution_count": 3
  },
  {
   "metadata": {
    "ExecuteTime": {
     "end_time": "2024-06-01T06:40:43.903526Z",
     "start_time": "2024-06-01T06:40:43.889556Z"
    }
   },
   "cell_type": "code",
   "source": [
    "# 验证\n",
    "X = torch.tensor([\n",
    "    [[0, 1, 2], [3, 4, 5], [6, 7, 8]],\n",
    "    [[1, 2, 3], [4, 5, 6], [7, 8, 9]]\n",
    "])\n",
    "\n",
    "K = torch.tensor([\n",
    "    [[0, 1], [2, 3]],\n",
    "    [[1, 2], [3, 4]]\n",
    "])\n",
    "\n",
    "corr2d_multi_in(X, K)"
   ],
   "id": "f6b56176dfa41c8e",
   "outputs": [
    {
     "data": {
      "text/plain": [
       "tensor([[ 56.,  72.],\n",
       "        [104., 120.]])"
      ]
     },
     "execution_count": 13,
     "metadata": {},
     "output_type": "execute_result"
    }
   ],
   "execution_count": 13
  },
  {
   "metadata": {},
   "cell_type": "markdown",
   "source": "#### 2. 多通道输出互相关运算",
   "id": "a376940dfc9ccab"
  },
  {
   "metadata": {
    "ExecuteTime": {
     "end_time": "2024-06-01T06:40:46.547710Z",
     "start_time": "2024-06-01T06:40:46.541274Z"
    }
   },
   "cell_type": "code",
   "source": [
    "def corr2d_multi_in_out(X, K):\n",
    "    return torch.stack([corr2d_multi_in(X, k) for k in K], 0)"
   ],
   "id": "81f7607001645c59",
   "outputs": [],
   "execution_count": 14
  },
  {
   "metadata": {
    "ExecuteTime": {
     "end_time": "2024-06-01T06:40:47.529407Z",
     "start_time": "2024-06-01T06:40:47.518567Z"
    }
   },
   "cell_type": "code",
   "source": [
    "print(K)\n",
    "K = torch.stack((K, K + 1, K + 2), 0)\n",
    "print(K.shape)\n",
    "print(K)"
   ],
   "id": "ed6101480f95765c",
   "outputs": [
    {
     "name": "stdout",
     "output_type": "stream",
     "text": [
      "tensor([[[0, 1],\n",
      "         [2, 3]],\n",
      "\n",
      "        [[1, 2],\n",
      "         [3, 4]]])\n",
      "torch.Size([3, 2, 2, 2])\n",
      "tensor([[[[0, 1],\n",
      "          [2, 3]],\n",
      "\n",
      "         [[1, 2],\n",
      "          [3, 4]]],\n",
      "\n",
      "\n",
      "        [[[1, 2],\n",
      "          [3, 4]],\n",
      "\n",
      "         [[2, 3],\n",
      "          [4, 5]]],\n",
      "\n",
      "\n",
      "        [[[2, 3],\n",
      "          [4, 5]],\n",
      "\n",
      "         [[3, 4],\n",
      "          [5, 6]]]])\n"
     ]
    }
   ],
   "execution_count": 15
  },
  {
   "metadata": {
    "ExecuteTime": {
     "end_time": "2024-06-01T06:37:19.656432Z",
     "start_time": "2024-06-01T06:37:19.644638Z"
    }
   },
   "cell_type": "code",
   "source": "corr2d_multi_in_out(X, K)",
   "id": "4d37fcadfe29e926",
   "outputs": [
    {
     "data": {
      "text/plain": [
       "tensor([[[ 56.,  72.],\n",
       "         [104., 120.]],\n",
       "\n",
       "        [[ 76., 100.],\n",
       "         [148., 172.]],\n",
       "\n",
       "        [[ 96., 128.],\n",
       "         [192., 224.]]])"
      ]
     },
     "execution_count": 8,
     "metadata": {},
     "output_type": "execute_result"
    }
   ],
   "execution_count": 8
  },
  {
   "metadata": {},
   "cell_type": "markdown",
   "source": "#### 3. 1×1的卷积等价于全连接",
   "id": "d4b1cd8f213e466a"
  },
  {
   "metadata": {
    "ExecuteTime": {
     "end_time": "2024-06-01T06:45:00.245263Z",
     "start_time": "2024-06-01T06:45:00.237082Z"
    }
   },
   "cell_type": "code",
   "source": [
    "def corr2d_multi_in_out_1x1(X, K):\n",
    "    c_i, h, w = X.shape\n",
    "    c_o = K.shape[0]\n",
    "    X = X.reshape((c_i, h * w))\n",
    "    K = K.reshape((c_o, c_i))\n",
    "    Y = torch.matmul(K, X)\n",
    "    return Y.reshape((c_o, h, w))"
   ],
   "id": "2a6d754863522cea",
   "outputs": [],
   "execution_count": 16
  },
  {
   "metadata": {
    "ExecuteTime": {
     "end_time": "2024-06-01T06:46:55.174900Z",
     "start_time": "2024-06-01T06:46:55.149412Z"
    }
   },
   "cell_type": "code",
   "source": [
    "X = torch.normal(0,1,(3,3,3))\n",
    "K = torch.normal(0,1,(2,3,1,1))\n",
    "\n",
    "Y1 = corr2d_multi_in_out_1x1(X, K)\n",
    "Y2 = corr2d_multi_in_out(X, K)\n",
    "assert float(torch.abs(Y1-Y2).sum())<1e-6"
   ],
   "id": "df739f02d03282cf",
   "outputs": [],
   "execution_count": 17
  }
 ],
 "metadata": {
  "kernelspec": {
   "display_name": "Python 3",
   "language": "python",
   "name": "python3"
  },
  "language_info": {
   "codemirror_mode": {
    "name": "ipython",
    "version": 2
   },
   "file_extension": ".py",
   "mimetype": "text/x-python",
   "name": "python",
   "nbconvert_exporter": "python",
   "pygments_lexer": "ipython2",
   "version": "2.7.6"
  }
 },
 "nbformat": 4,
 "nbformat_minor": 5
}
