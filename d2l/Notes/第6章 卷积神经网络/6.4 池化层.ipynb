{
 "cells": [
  {
   "metadata": {},
   "cell_type": "markdown",
   "source": "# 池化层",
   "id": "7250710db8a68e1f"
  },
  {
   "cell_type": "code",
   "id": "initial_id",
   "metadata": {
    "collapsed": true,
    "ExecuteTime": {
     "end_time": "2024-06-01T07:16:12.343553Z",
     "start_time": "2024-06-01T07:16:10.515895Z"
    }
   },
   "source": [
    "import torch\n",
    "from torch import nn"
   ],
   "outputs": [],
   "execution_count": 1
  },
  {
   "metadata": {},
   "cell_type": "markdown",
   "source": "#### 1.正向传播",
   "id": "4d7d4126b1305cfd"
  },
  {
   "metadata": {
    "ExecuteTime": {
     "end_time": "2024-06-01T07:19:22.962810Z",
     "start_time": "2024-06-01T07:19:22.956041Z"
    }
   },
   "cell_type": "code",
   "source": [
    "def pool2d(X, pool_size, mode='max'):\n",
    "    p_h, p_w = pool_size\n",
    "    Y = torch.zeros((X.shape[0] - p_h + 1, X.shape[1] - p_w + 1))\n",
    "    for i in range(Y.shape[0]):\n",
    "        for j in range(Y.shape[1]):\n",
    "            if mode == 'max':\n",
    "                Y[i, j] = X[i:i + p_h, j:j + p_w].max()\n",
    "            elif mode == 'avg':\n",
    "                Y[i, j] = X[i:i + p_h, j:j + p_w].mean()\n",
    "    return Y"
   ],
   "id": "9a020661c3a14d8e",
   "outputs": [],
   "execution_count": 2
  },
  {
   "metadata": {
    "ExecuteTime": {
     "end_time": "2024-06-01T07:24:17.095714Z",
     "start_time": "2024-06-01T07:24:17.085689Z"
    }
   },
   "cell_type": "code",
   "source": [
    "# 验证\n",
    "X = torch.tensor([\n",
    "    [0., 1., 2.],\n",
    "    [3., 4., 5.],\n",
    "    [6., 7., 8.]\n",
    "])\n",
    "pool2d(X, (2, 2))"
   ],
   "id": "c6ca042e0e85411d",
   "outputs": [
    {
     "data": {
      "text/plain": [
       "tensor([[2., 3.],\n",
       "        [5., 6.]])"
      ]
     },
     "execution_count": 9,
     "metadata": {},
     "output_type": "execute_result"
    }
   ],
   "execution_count": 9
  },
  {
   "metadata": {
    "ExecuteTime": {
     "end_time": "2024-06-01T07:24:29.751652Z",
     "start_time": "2024-06-01T07:24:29.743022Z"
    }
   },
   "cell_type": "code",
   "source": "pool2d(X, (2, 2), 'avg')",
   "id": "cade915e9117a6a5",
   "outputs": [
    {
     "data": {
      "text/plain": [
       "tensor([[2., 3.],\n",
       "        [5., 6.]])"
      ]
     },
     "execution_count": 10,
     "metadata": {},
     "output_type": "execute_result"
    }
   ],
   "execution_count": 10
  },
  {
   "metadata": {},
   "cell_type": "markdown",
   "source": "#### 2. 填充和步幅",
   "id": "51bc297393ac8114"
  },
  {
   "metadata": {
    "ExecuteTime": {
     "end_time": "2024-06-01T07:25:44.298010Z",
     "start_time": "2024-06-01T07:25:44.238670Z"
    }
   },
   "cell_type": "code",
   "source": [
    "X = torch.arange(16, dtype=torch.float32).reshape((1, 1, 4, 4))\n",
    "X"
   ],
   "id": "445a03883be73f5",
   "outputs": [
    {
     "data": {
      "text/plain": [
       "tensor([[[[ 0.,  1.,  2.,  3.],\n",
       "          [ 4.,  5.,  6.,  7.],\n",
       "          [ 8.,  9., 10., 11.],\n",
       "          [12., 13., 14., 15.]]]])"
      ]
     },
     "execution_count": 11,
     "metadata": {},
     "output_type": "execute_result"
    }
   ],
   "execution_count": 11
  },
  {
   "metadata": {},
   "cell_type": "markdown",
   "source": "pytorch框架中默认池化步幅和池化窗口大小相同",
   "id": "50b9d9671be3ffbb"
  },
  {
   "metadata": {
    "ExecuteTime": {
     "end_time": "2024-06-01T07:26:25.218324Z",
     "start_time": "2024-06-01T07:26:25.198362Z"
    }
   },
   "cell_type": "code",
   "source": [
    "pool2d = nn.MaxPool2d(3)\n",
    "pool2d(X)"
   ],
   "id": "3fbc7b4d14ff5119",
   "outputs": [
    {
     "data": {
      "text/plain": [
       "tensor([[[[10.]]]])"
      ]
     },
     "execution_count": 12,
     "metadata": {},
     "output_type": "execute_result"
    }
   ],
   "execution_count": 12
  },
  {
   "metadata": {},
   "cell_type": "markdown",
   "source": "手动设定步幅和填充",
   "id": "fd80d3f84ee18b4c"
  },
  {
   "metadata": {
    "ExecuteTime": {
     "end_time": "2024-06-01T07:29:10.188885Z",
     "start_time": "2024-06-01T07:29:10.176341Z"
    }
   },
   "cell_type": "code",
   "source": [
    "pool2d = nn.MaxPool2d(3, padding=1, stride=2)\n",
    "pool2d(X)"
   ],
   "id": "239ee1feaf1ad62d",
   "outputs": [
    {
     "data": {
      "text/plain": [
       "tensor([[[[ 5.,  7.],\n",
       "          [13., 15.]]]])"
      ]
     },
     "execution_count": 13,
     "metadata": {},
     "output_type": "execute_result"
    }
   ],
   "execution_count": 13
  },
  {
   "metadata": {},
   "cell_type": "markdown",
   "source": "手动设定池化层窗口大小",
   "id": "b94c2050cdb0be07"
  },
  {
   "metadata": {
    "ExecuteTime": {
     "end_time": "2024-06-01T07:29:44.781956Z",
     "start_time": "2024-06-01T07:29:44.776413Z"
    }
   },
   "cell_type": "code",
   "source": [
    "pool2d = nn.MaxPool2d((2, 3), padding=(1, 1), stride=(2, 3))\n",
    "pool2d(X)"
   ],
   "id": "3c7fe8ff20a4acfa",
   "outputs": [
    {
     "data": {
      "text/plain": [
       "tensor([[[[ 1.,  3.],\n",
       "          [ 9., 11.],\n",
       "          [13., 15.]]]])"
      ]
     },
     "execution_count": 14,
     "metadata": {},
     "output_type": "execute_result"
    }
   ],
   "execution_count": 14
  },
  {
   "metadata": {},
   "cell_type": "markdown",
   "source": "#### 3. 多通道池化层",
   "id": "4f7041dfab4c3e4e"
  },
  {
   "metadata": {
    "ExecuteTime": {
     "end_time": "2024-06-01T07:31:06.219680Z",
     "start_time": "2024-06-01T07:31:06.213273Z"
    }
   },
   "cell_type": "code",
   "source": [
    "X = torch.cat((X,X+1),1)\n",
    "X"
   ],
   "id": "c1e08d29cf28d95",
   "outputs": [
    {
     "data": {
      "text/plain": [
       "tensor([[[[ 0.,  1.,  2.,  3.],\n",
       "          [ 4.,  5.,  6.,  7.],\n",
       "          [ 8.,  9., 10., 11.],\n",
       "          [12., 13., 14., 15.]],\n",
       "\n",
       "         [[ 1.,  2.,  3.,  4.],\n",
       "          [ 5.,  6.,  7.,  8.],\n",
       "          [ 9., 10., 11., 12.],\n",
       "          [13., 14., 15., 16.]]]])"
      ]
     },
     "execution_count": 15,
     "metadata": {},
     "output_type": "execute_result"
    }
   ],
   "execution_count": 15
  },
  {
   "metadata": {
    "ExecuteTime": {
     "end_time": "2024-06-01T07:31:59.900264Z",
     "start_time": "2024-06-01T07:31:59.892738Z"
    }
   },
   "cell_type": "code",
   "source": [
    "pool2d = nn.MaxPool2d(3, padding=1, stride=2)\n",
    "pool2d(X)"
   ],
   "id": "85f927554e63b3eb",
   "outputs": [
    {
     "data": {
      "text/plain": [
       "tensor([[[[ 5.,  7.],\n",
       "          [13., 15.]],\n",
       "\n",
       "         [[ 6.,  8.],\n",
       "          [14., 16.]]]])"
      ]
     },
     "execution_count": 16,
     "metadata": {},
     "output_type": "execute_result"
    }
   ],
   "execution_count": 16
  }
 ],
 "metadata": {
  "kernelspec": {
   "display_name": "Python 3",
   "language": "python",
   "name": "python3"
  },
  "language_info": {
   "codemirror_mode": {
    "name": "ipython",
    "version": 2
   },
   "file_extension": ".py",
   "mimetype": "text/x-python",
   "name": "python",
   "nbconvert_exporter": "python",
   "pygments_lexer": "ipython2",
   "version": "2.7.6"
  }
 },
 "nbformat": 4,
 "nbformat_minor": 5
}
