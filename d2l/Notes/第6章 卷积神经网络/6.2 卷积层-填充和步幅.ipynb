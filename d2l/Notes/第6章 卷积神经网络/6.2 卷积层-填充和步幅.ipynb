{
 "cells": [
  {
   "metadata": {},
   "cell_type": "markdown",
   "source": [
    "# 填充和步幅\n",
    "（在框架中的使用）"
   ],
   "id": "68849bd99ec4e4d4"
  },
  {
   "metadata": {
    "ExecuteTime": {
     "end_time": "2024-06-01T05:37:16.356663Z",
     "start_time": "2024-06-01T05:37:16.351298Z"
    }
   },
   "cell_type": "code",
   "source": [
    "import torch\n",
    "from torch import nn"
   ],
   "id": "670acf51e3b5b22a",
   "outputs": [],
   "execution_count": 9
  },
  {
   "metadata": {
    "ExecuteTime": {
     "end_time": "2024-06-01T05:37:16.881847Z",
     "start_time": "2024-06-01T05:37:16.876642Z"
    }
   },
   "cell_type": "code",
   "source": [
    "def comp_conv2d(conv2d, X):\n",
    "    \"\"\"查看输出维度（删除通道数和批量数）\"\"\"\n",
    "    X = X.reshape((1, 1) + X.shape)\n",
    "    Y = conv2d(X)\n",
    "    return Y.reshape(Y.shape[2:])\n",
    "\n",
    "X = torch.rand(size=(8, 8))"
   ],
   "id": "aa180c8fe46a44f4",
   "outputs": [],
   "execution_count": 10
  },
  {
   "metadata": {},
   "cell_type": "markdown",
   "source": [
    "#### 1. 填充\n",
    "\n",
    "上下左右各填充1行"
   ],
   "id": "fea1efc2edaf3b5f"
  },
  {
   "metadata": {
    "ExecuteTime": {
     "end_time": "2024-06-01T05:37:23.256204Z",
     "start_time": "2024-06-01T05:37:23.244591Z"
    }
   },
   "cell_type": "code",
   "source": [
    "conv2d = nn.Conv2d(1, 1, kernel_size=3, padding=1)\n",
    "comp_conv2d(conv2d, X).shape"
   ],
   "id": "a04008237bee7c42",
   "outputs": [
    {
     "data": {
      "text/plain": [
       "torch.Size([8, 8])"
      ]
     },
     "execution_count": 11,
     "metadata": {},
     "output_type": "execute_result"
    }
   ],
   "execution_count": 11
  },
  {
   "metadata": {},
   "cell_type": "markdown",
   "source": "填充不同高度和宽度",
   "id": "7d3521a7e3ce1d31"
  },
  {
   "metadata": {
    "ExecuteTime": {
     "end_time": "2024-06-01T05:37:25.831633Z",
     "start_time": "2024-06-01T05:37:25.820372Z"
    }
   },
   "cell_type": "code",
   "source": [
    "conv2d = nn.Conv2d(1, 1, kernel_size=(5, 3), padding=(2, 1))\n",
    "comp_conv2d(conv2d, X).shape"
   ],
   "id": "3f4a745d54f882c7",
   "outputs": [
    {
     "data": {
      "text/plain": [
       "torch.Size([8, 8])"
      ]
     },
     "execution_count": 12,
     "metadata": {},
     "output_type": "execute_result"
    }
   ],
   "execution_count": 12
  },
  {
   "metadata": {},
   "cell_type": "markdown",
   "source": "#### 2. 步幅",
   "id": "a29cda076b544654"
  },
  {
   "metadata": {
    "ExecuteTime": {
     "end_time": "2024-06-01T05:37:29.168753Z",
     "start_time": "2024-06-01T05:37:29.157955Z"
    }
   },
   "cell_type": "code",
   "source": [
    "conv2d = nn.Conv2d(1, 1, kernel_size=3, padding=1, stride=2)\n",
    "comp_conv2d(conv2d, X).shape"
   ],
   "id": "d9b63448aad02d34",
   "outputs": [
    {
     "data": {
      "text/plain": [
       "torch.Size([4, 4])"
      ]
     },
     "execution_count": 13,
     "metadata": {},
     "output_type": "execute_result"
    }
   ],
   "execution_count": 13
  },
  {
   "metadata": {},
   "cell_type": "markdown",
   "source": "#### 3. 综合",
   "id": "14bce6e0f2a4dee2"
  },
  {
   "metadata": {
    "ExecuteTime": {
     "end_time": "2024-06-01T05:39:24.357711Z",
     "start_time": "2024-06-01T05:39:24.346186Z"
    }
   },
   "cell_type": "code",
   "source": [
    "conv2d = nn.Conv2d(1,1,kernel_size=(3,5), padding=(0,1), stride=(3,4))\n",
    "comp_conv2d(conv2d, X).shape"
   ],
   "id": "543015c002318591",
   "outputs": [
    {
     "data": {
      "text/plain": [
       "torch.Size([2, 2])"
      ]
     },
     "execution_count": 14,
     "metadata": {},
     "output_type": "execute_result"
    }
   ],
   "execution_count": 14
  },
  {
   "metadata": {},
   "cell_type": "code",
   "outputs": [],
   "execution_count": null,
   "source": "",
   "id": "347bf25dc1029083"
  }
 ],
 "metadata": {
  "kernelspec": {
   "display_name": "Python 3",
   "language": "python",
   "name": "python3"
  },
  "language_info": {
   "codemirror_mode": {
    "name": "ipython",
    "version": 2
   },
   "file_extension": ".py",
   "mimetype": "text/x-python",
   "name": "python",
   "nbconvert_exporter": "python",
   "pygments_lexer": "ipython2",
   "version": "2.7.6"
  }
 },
 "nbformat": 4,
 "nbformat_minor": 5
}
