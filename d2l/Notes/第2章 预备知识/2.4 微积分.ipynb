{
 "cells": [
  {
   "metadata": {},
   "cell_type": "markdown",
   "source": "# 2.4 微积分理论",
   "id": "508d5eb7a4a5f40"
  },
  {
   "metadata": {},
   "cell_type": "markdown",
   "source": [
    "- 标量对向量求导：多元函数的求导\n",
    "- 向量对标量求导：分量标量求导再组成向量\n",
    "- 向量对向量求导"
   ],
   "id": "6549940ae4aa5edb"
  },
  {
   "metadata": {},
   "cell_type": "markdown",
   "source": "",
   "id": "d18f748a6368ee91"
  }
 ],
 "metadata": {
  "kernelspec": {
   "display_name": "Python 3",
   "language": "python",
   "name": "python3"
  },
  "language_info": {
   "codemirror_mode": {
    "name": "ipython",
    "version": 2
   },
   "file_extension": ".py",
   "mimetype": "text/x-python",
   "name": "python",
   "nbconvert_exporter": "python",
   "pygments_lexer": "ipython2",
   "version": "2.7.6"
  }
 },
 "nbformat": 4,
 "nbformat_minor": 5
}
