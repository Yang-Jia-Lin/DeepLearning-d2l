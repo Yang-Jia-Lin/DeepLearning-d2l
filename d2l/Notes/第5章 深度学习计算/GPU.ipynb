{
 "cells": [
  {
   "metadata": {},
   "cell_type": "markdown",
   "source": "# GPU",
   "id": "80e5fd80030e96fa"
  },
  {
   "metadata": {},
   "cell_type": "markdown",
   "source": "### 1 查看GPU状态",
   "id": "3e6c23f628cd5984"
  },
  {
   "cell_type": "code",
   "id": "initial_id",
   "metadata": {
    "collapsed": true,
    "ExecuteTime": {
     "end_time": "2024-05-30T14:25:21.933862Z",
     "start_time": "2024-05-30T14:25:20.164860Z"
    }
   },
   "source": "!nvidia-smi",
   "outputs": [
    {
     "name": "stdout",
     "output_type": "stream",
     "text": [
      "Thu May 30 22:25:20 2024       \r\n",
      "+-----------------------------------------------------------------------------------------+\r\n",
      "| NVIDIA-SMI 550.54.15              Driver Version: 550.54.15      CUDA Version: 12.4     |\r\n",
      "|-----------------------------------------+------------------------+----------------------+\r\n",
      "| GPU  Name                 Persistence-M | Bus-Id          Disp.A | Volatile Uncorr. ECC |\r\n",
      "| Fan  Temp   Perf          Pwr:Usage/Cap |           Memory-Usage | GPU-Util  Compute M. |\r\n",
      "|                                         |                        |               MIG M. |\r\n",
      "|=========================================+========================+======================|\r\n",
      "|   0  NVIDIA A100-PCIE-40GB          Off |   00000000:18:00.0 Off |                    0 |\r\n",
      "| N/A   77C    P0            221W /  250W |   21798MiB /  40960MiB |     88%      Default |\r\n",
      "|                                         |                        |             Disabled |\r\n",
      "+-----------------------------------------+------------------------+----------------------+\r\n",
      "|   1  NVIDIA A100-PCIE-40GB          Off |   00000000:3B:00.0 Off |                    0 |\r\n",
      "| N/A   60C    P0            265W /  250W |   12384MiB /  40960MiB |     98%      Default |\r\n",
      "|                                         |                        |             Disabled |\r\n",
      "+-----------------------------------------+------------------------+----------------------+\r\n",
      "|   2  NVIDIA A100-PCIE-40GB          Off |   00000000:86:00.0 Off |                    0 |\r\n",
      "| N/A   32C    P0             38W /  250W |   13112MiB /  40960MiB |     24%      Default |\r\n",
      "|                                         |                        |             Disabled |\r\n",
      "+-----------------------------------------+------------------------+----------------------+\r\n",
      "|   3  NVIDIA A100-PCIE-40GB          Off |   00000000:AF:00.0 Off |                    0 |\r\n",
      "| N/A   34C    P0             77W /  250W |    7443MiB /  40960MiB |      0%      Default |\r\n",
      "|                                         |                        |             Disabled |\r\n",
      "+-----------------------------------------+------------------------+----------------------+\r\n",
      "                                                                                         \r\n",
      "+-----------------------------------------------------------------------------------------+\r\n",
      "| Processes:                                                                              |\r\n",
      "|  GPU   GI   CI        PID   Type   Process name                              GPU Memory |\r\n",
      "|        ID   ID                                                               Usage      |\r\n",
      "|=========================================================================================|\r\n",
      "|    0   N/A  N/A     43811      C   python                                        990MiB |\r\n",
      "|    0   N/A  N/A     59632      C   python                                      20794MiB |\r\n",
      "|    1   N/A  N/A     42097      C   python                                       1048MiB |\r\n",
      "|    1   N/A  N/A     51633      C   python                                      11320MiB |\r\n",
      "|    2   N/A  N/A     57584      C   python                                        990MiB |\r\n",
      "|    2   N/A  N/A     92075      C   python                                      12108MiB |\r\n",
      "|    3   N/A  N/A     64650      C   python                                       7434MiB |\r\n",
      "+-----------------------------------------------------------------------------------------+\r\n"
     ]
    }
   ],
   "execution_count": 1
  },
  {
   "metadata": {
    "ExecuteTime": {
     "end_time": "2024-05-30T14:26:14.463989Z",
     "start_time": "2024-05-30T14:26:13.159092Z"
    }
   },
   "cell_type": "code",
   "source": [
    "import torch\n",
    "from torch import nn"
   ],
   "id": "a4a2b65c038de4be",
   "outputs": [],
   "execution_count": 2
  },
  {
   "metadata": {},
   "cell_type": "markdown",
   "source": "选择使用cpu或gpu",
   "id": "dd6852b8a9e2d812"
  },
  {
   "metadata": {
    "ExecuteTime": {
     "end_time": "2024-05-30T14:26:30.884617Z",
     "start_time": "2024-05-30T14:26:30.877603Z"
    }
   },
   "cell_type": "code",
   "source": [
    "torch.device('cpu')\n",
    "torch.cuda.device('cuda')\n",
    "torch.cuda.device('cuda:1')"
   ],
   "id": "bb3f955c93717542",
   "outputs": [
    {
     "data": {
      "text/plain": [
       "device(type='cpu')"
      ]
     },
     "execution_count": 3,
     "metadata": {},
     "output_type": "execute_result"
    }
   ],
   "execution_count": 3
  },
  {
   "metadata": {
    "ExecuteTime": {
     "end_time": "2024-05-30T14:27:42.436748Z",
     "start_time": "2024-05-30T14:27:42.430180Z"
    }
   },
   "cell_type": "code",
   "source": "torch.cuda.device_count()",
   "id": "f2c67f428e465e33",
   "outputs": [
    {
     "data": {
      "text/plain": [
       "4"
      ]
     },
     "execution_count": 6,
     "metadata": {},
     "output_type": "execute_result"
    }
   ],
   "execution_count": 6
  },
  {
   "metadata": {},
   "cell_type": "markdown",
   "source": "允许在请求GPU不存在的情况下运行代码",
   "id": "1fc994a6f0616ba3"
  },
  {
   "metadata": {
    "ExecuteTime": {
     "end_time": "2024-05-30T14:43:07.534907Z",
     "start_time": "2024-05-30T14:43:07.527540Z"
    }
   },
   "cell_type": "code",
   "source": [
    "def try_gpu(i=0):\n",
    "    \"\"\"如果存在，则返回gpu(i)，否则返回cpu\"\"\"\n",
    "    if torch.cuda.device_count() >= i + 1:\n",
    "        return torch.device(f'cuda:{i}')\n",
    "    return torch.device('cpu')"
   ],
   "id": "63aa07a97e2ccf74",
   "outputs": [],
   "execution_count": 7
  },
  {
   "metadata": {
    "ExecuteTime": {
     "end_time": "2024-05-30T14:46:16.596520Z",
     "start_time": "2024-05-30T14:46:16.589465Z"
    }
   },
   "cell_type": "code",
   "source": [
    "def try_all_gpus():\n",
    "    devices = [\n",
    "        torch.device(f'cuda:{i}') for i in range\n",
    "        (torch.cuda.device_count())\n",
    "    ]\n",
    "    return devices if devices else [torch.device('cpu')]"
   ],
   "id": "987ad39c86f2e275",
   "outputs": [],
   "execution_count": 8
  },
  {
   "metadata": {
    "ExecuteTime": {
     "end_time": "2024-05-30T14:46:36.336536Z",
     "start_time": "2024-05-30T14:46:36.328407Z"
    }
   },
   "cell_type": "code",
   "source": "try_gpu()",
   "id": "ed45d4a9ab3d1380",
   "outputs": [
    {
     "data": {
      "text/plain": [
       "device(type='cuda', index=0)"
      ]
     },
     "execution_count": 9,
     "metadata": {},
     "output_type": "execute_result"
    }
   ],
   "execution_count": 9
  },
  {
   "metadata": {
    "ExecuteTime": {
     "end_time": "2024-05-30T14:46:53.787421Z",
     "start_time": "2024-05-30T14:46:53.780133Z"
    }
   },
   "cell_type": "code",
   "source": "try_gpu(10)",
   "id": "39f7796940af0c35",
   "outputs": [
    {
     "data": {
      "text/plain": [
       "device(type='cpu')"
      ]
     },
     "execution_count": 10,
     "metadata": {},
     "output_type": "execute_result"
    }
   ],
   "execution_count": 10
  },
  {
   "metadata": {
    "ExecuteTime": {
     "end_time": "2024-05-30T14:47:16.588505Z",
     "start_time": "2024-05-30T14:47:16.580357Z"
    }
   },
   "cell_type": "code",
   "source": "try_all_gpus()",
   "id": "f402836547cb807b",
   "outputs": [
    {
     "data": {
      "text/plain": [
       "[device(type='cuda', index=0),\n",
       " device(type='cuda', index=1),\n",
       " device(type='cuda', index=2),\n",
       " device(type='cuda', index=3)]"
      ]
     },
     "execution_count": 11,
     "metadata": {},
     "output_type": "execute_result"
    }
   ],
   "execution_count": 11
  },
  {
   "metadata": {},
   "cell_type": "markdown",
   "source": "### 2 对应设备创建张量",
   "id": "4fa19732970af165"
  },
  {
   "metadata": {},
   "cell_type": "markdown",
   "source": "默认在cpu上",
   "id": "864289c084235678"
  },
  {
   "metadata": {
    "ExecuteTime": {
     "end_time": "2024-05-30T14:52:56.847112Z",
     "start_time": "2024-05-30T14:52:56.838233Z"
    }
   },
   "cell_type": "code",
   "source": [
    "x = torch.tensor([1, 2, 3])\n",
    "x.device"
   ],
   "id": "aec7d5c5e85afeb8",
   "outputs": [
    {
     "data": {
      "text/plain": [
       "device(type='cpu')"
      ]
     },
     "execution_count": 13,
     "metadata": {},
     "output_type": "execute_result"
    }
   ],
   "execution_count": 13
  },
  {
   "metadata": {},
   "cell_type": "markdown",
   "source": "指定在gpu上创建",
   "id": "3d347769c591f316"
  },
  {
   "metadata": {
    "ExecuteTime": {
     "end_time": "2024-05-30T14:55:22.016623Z",
     "start_time": "2024-05-30T14:55:13.852497Z"
    }
   },
   "cell_type": "code",
   "source": [
    "X = torch.ones(2, 3, device=try_gpu())\n",
    "X"
   ],
   "id": "f83e696ac8c735f6",
   "outputs": [
    {
     "data": {
      "text/plain": [
       "tensor([[1., 1., 1.],\n",
       "        [1., 1., 1.]], device='cuda:0')"
      ]
     },
     "execution_count": 14,
     "metadata": {},
     "output_type": "execute_result"
    }
   ],
   "execution_count": 14
  },
  {
   "metadata": {
    "ExecuteTime": {
     "end_time": "2024-05-30T14:57:29.643745Z",
     "start_time": "2024-05-30T14:57:27.357102Z"
    }
   },
   "cell_type": "code",
   "source": [
    "Y = torch.ones(2, 3, device=try_gpu(3))\n",
    "Y"
   ],
   "id": "c4451b6a375c32a3",
   "outputs": [
    {
     "data": {
      "text/plain": [
       "tensor([[1., 1., 1.],\n",
       "        [1., 1., 1.]], device='cuda:3')"
      ]
     },
     "execution_count": 15,
     "metadata": {},
     "output_type": "execute_result"
    }
   ],
   "execution_count": 15
  },
  {
   "metadata": {},
   "cell_type": "markdown",
   "source": "只有 X和Y 在同一块GPU上才能进行运算，将X复制移动到3号gpu上于Y运算",
   "id": "60b064f1de74fcbb"
  },
  {
   "metadata": {
    "ExecuteTime": {
     "end_time": "2024-05-30T15:31:11.545962Z",
     "start_time": "2024-05-30T15:31:11.508858Z"
    }
   },
   "cell_type": "code",
   "source": [
    "Z = X.cuda(3)\n",
    "print(X)\n",
    "print(Z)"
   ],
   "id": "86599d8c55b2a9f5",
   "outputs": [
    {
     "name": "stdout",
     "output_type": "stream",
     "text": [
      "tensor([[1., 1., 1.],\n",
      "        [1., 1., 1.]], device='cuda:0')\n",
      "tensor([[1., 1., 1.],\n",
      "        [1., 1., 1.]], device='cuda:3')\n"
     ]
    }
   ],
   "execution_count": 18
  },
  {
   "metadata": {
    "ExecuteTime": {
     "end_time": "2024-05-30T15:32:02.905339Z",
     "start_time": "2024-05-30T15:32:02.863552Z"
    }
   },
   "cell_type": "code",
   "source": "Y+Z",
   "id": "8a19d715b5b0d824",
   "outputs": [
    {
     "data": {
      "text/plain": [
       "tensor([[2., 2., 2.],\n",
       "        [2., 2., 2.]], device='cuda:3')"
      ]
     },
     "execution_count": 19,
     "metadata": {},
     "output_type": "execute_result"
    }
   ],
   "execution_count": 19
  },
  {
   "metadata": {},
   "cell_type": "markdown",
   "source": "### 3.神经网络中使用GPU",
   "id": "f230c43b41c1d39c"
  },
  {
   "metadata": {
    "ExecuteTime": {
     "end_time": "2024-05-30T15:35:29.854147Z",
     "start_time": "2024-05-30T15:35:24.808837Z"
    }
   },
   "cell_type": "code",
   "source": [
    "net = nn.Sequential(nn.Linear(3,1))\n",
    "net = net.to(device=try_gpu())\n",
    "\n",
    "net(X)"
   ],
   "id": "fe5a7154626abf7e",
   "outputs": [
    {
     "data": {
      "text/plain": [
       "tensor([[-0.2573],\n",
       "        [-0.2573]], device='cuda:0', grad_fn=<AddmmBackward0>)"
      ]
     },
     "execution_count": 20,
     "metadata": {},
     "output_type": "execute_result"
    }
   ],
   "execution_count": 20
  },
  {
   "metadata": {
    "ExecuteTime": {
     "end_time": "2024-05-30T15:37:04.825193Z",
     "start_time": "2024-05-30T15:37:04.816835Z"
    }
   },
   "cell_type": "code",
   "source": "net[0].weight.data.device",
   "id": "ca33570c6e15ef13",
   "outputs": [
    {
     "data": {
      "text/plain": [
       "device(type='cuda', index=0)"
      ]
     },
     "execution_count": 22,
     "metadata": {},
     "output_type": "execute_result"
    }
   ],
   "execution_count": 22
  }
 ],
 "metadata": {
  "kernelspec": {
   "display_name": "Python 3",
   "language": "python",
   "name": "python3"
  },
  "language_info": {
   "codemirror_mode": {
    "name": "ipython",
    "version": 2
   },
   "file_extension": ".py",
   "mimetype": "text/x-python",
   "name": "python",
   "nbconvert_exporter": "python",
   "pygments_lexer": "ipython2",
   "version": "2.7.6"
  }
 },
 "nbformat": 4,
 "nbformat_minor": 5
}
